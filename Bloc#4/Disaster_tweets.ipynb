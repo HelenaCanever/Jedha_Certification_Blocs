{
  "metadata": {
    "kernelspec": {
      "language": "python",
      "display_name": "Python 3",
      "name": "python3"
    },
    "language_info": {
      "name": "python",
      "version": "3.7.12",
      "mimetype": "text/x-python",
      "codemirror_mode": {
        "name": "ipython",
        "version": 3
      },
      "pygments_lexer": "ipython3",
      "nbconvert_exporter": "python",
      "file_extension": ".py"
    },
    "colab": {
      "name": "Disaster_tweets.ipynb",
      "provenance": [],
      "collapsed_sections": []
    }
  },
  "nbformat_minor": 0,
  "nbformat": 4,
  "cells": [
    {
      "cell_type": "markdown",
      "source": [
        "## Import libraries and data"
      ],
      "metadata": {
        "id": "7GI95sPukJWC"
      }
    },
    {
      "cell_type": "code",
      "source": [
        "import numpy as np \n",
        "import pandas as pd \n",
        "import os\n",
        "\n",
        "# for working on Kaggle\n",
        "\n",
        "#for dirname, _, filenames in os.walk('/kaggle/input'):\n",
        "#    for filename in filenames:\n",
        "#        print(os.path.join(dirname, filename))\n",
        "\n",
        "import io\n",
        "import re\n",
        "import shutil\n",
        "import string\n",
        "\n",
        "#import tensorflow \n",
        "import tensorflow as tf\n",
        "from tensorflow.keras import Sequential\n",
        "from tensorflow.keras.layers import Dense, Embedding, GlobalAveragePooling1D, Dropout, Bidirectional, SimpleRNN, GRU, LSTM, LeakyReLU\n",
        "from tensorflow.keras.layers.experimental.preprocessing import TextVectorization\n",
        "!pip install tensorflow-addons -q\n",
        "import tensorflow_addons as tfa\n",
        "\n",
        "import matplotlib.pyplot as plt"
      ],
      "metadata": {
        "_uuid": "8f2839f25d086af736a60e9eeb907d3b93b6e0e5",
        "_cell_guid": "b1076dfc-b9ad-4769-8c92-a6c4dae69d19",
        "execution": {
          "iopub.status.busy": "2022-07-03T11:11:42.388633Z",
          "iopub.execute_input": "2022-07-03T11:11:42.389338Z",
          "iopub.status.idle": "2022-07-03T11:11:42.418225Z",
          "shell.execute_reply.started": "2022-07-03T11:11:42.389242Z",
          "shell.execute_reply": "2022-07-03T11:11:42.417447Z"
        },
        "trusted": true,
        "id": "GV12qMlDXAX_",
        "colab": {
          "base_uri": "https://localhost:8080/"
        },
        "outputId": "37bf7286-ba40-4f72-c2f3-5199d25dfb7c"
      },
      "execution_count": 1,
      "outputs": [
        {
          "output_type": "stream",
          "name": "stdout",
          "text": [
            "\u001b[?25l\r\u001b[K     |▎                               | 10 kB 21.0 MB/s eta 0:00:01\r\u001b[K     |▋                               | 20 kB 28.8 MB/s eta 0:00:01\r\u001b[K     |▉                               | 30 kB 17.3 MB/s eta 0:00:01\r\u001b[K     |█▏                              | 40 kB 11.9 MB/s eta 0:00:01\r\u001b[K     |█▌                              | 51 kB 7.3 MB/s eta 0:00:01\r\u001b[K     |█▊                              | 61 kB 8.6 MB/s eta 0:00:01\r\u001b[K     |██                              | 71 kB 8.8 MB/s eta 0:00:01\r\u001b[K     |██▍                             | 81 kB 7.9 MB/s eta 0:00:01\r\u001b[K     |██▋                             | 92 kB 8.7 MB/s eta 0:00:01\r\u001b[K     |███                             | 102 kB 7.8 MB/s eta 0:00:01\r\u001b[K     |███▎                            | 112 kB 7.8 MB/s eta 0:00:01\r\u001b[K     |███▌                            | 122 kB 7.8 MB/s eta 0:00:01\r\u001b[K     |███▉                            | 133 kB 7.8 MB/s eta 0:00:01\r\u001b[K     |████▏                           | 143 kB 7.8 MB/s eta 0:00:01\r\u001b[K     |████▍                           | 153 kB 7.8 MB/s eta 0:00:01\r\u001b[K     |████▊                           | 163 kB 7.8 MB/s eta 0:00:01\r\u001b[K     |█████                           | 174 kB 7.8 MB/s eta 0:00:01\r\u001b[K     |█████▎                          | 184 kB 7.8 MB/s eta 0:00:01\r\u001b[K     |█████▋                          | 194 kB 7.8 MB/s eta 0:00:01\r\u001b[K     |██████                          | 204 kB 7.8 MB/s eta 0:00:01\r\u001b[K     |██████▏                         | 215 kB 7.8 MB/s eta 0:00:01\r\u001b[K     |██████▌                         | 225 kB 7.8 MB/s eta 0:00:01\r\u001b[K     |██████▉                         | 235 kB 7.8 MB/s eta 0:00:01\r\u001b[K     |███████                         | 245 kB 7.8 MB/s eta 0:00:01\r\u001b[K     |███████▍                        | 256 kB 7.8 MB/s eta 0:00:01\r\u001b[K     |███████▋                        | 266 kB 7.8 MB/s eta 0:00:01\r\u001b[K     |████████                        | 276 kB 7.8 MB/s eta 0:00:01\r\u001b[K     |████████▎                       | 286 kB 7.8 MB/s eta 0:00:01\r\u001b[K     |████████▌                       | 296 kB 7.8 MB/s eta 0:00:01\r\u001b[K     |████████▉                       | 307 kB 7.8 MB/s eta 0:00:01\r\u001b[K     |█████████▏                      | 317 kB 7.8 MB/s eta 0:00:01\r\u001b[K     |█████████▍                      | 327 kB 7.8 MB/s eta 0:00:01\r\u001b[K     |█████████▊                      | 337 kB 7.8 MB/s eta 0:00:01\r\u001b[K     |██████████                      | 348 kB 7.8 MB/s eta 0:00:01\r\u001b[K     |██████████▎                     | 358 kB 7.8 MB/s eta 0:00:01\r\u001b[K     |██████████▋                     | 368 kB 7.8 MB/s eta 0:00:01\r\u001b[K     |███████████                     | 378 kB 7.8 MB/s eta 0:00:01\r\u001b[K     |███████████▏                    | 389 kB 7.8 MB/s eta 0:00:01\r\u001b[K     |███████████▌                    | 399 kB 7.8 MB/s eta 0:00:01\r\u001b[K     |███████████▉                    | 409 kB 7.8 MB/s eta 0:00:01\r\u001b[K     |████████████                    | 419 kB 7.8 MB/s eta 0:00:01\r\u001b[K     |████████████▍                   | 430 kB 7.8 MB/s eta 0:00:01\r\u001b[K     |████████████▊                   | 440 kB 7.8 MB/s eta 0:00:01\r\u001b[K     |█████████████                   | 450 kB 7.8 MB/s eta 0:00:01\r\u001b[K     |█████████████▎                  | 460 kB 7.8 MB/s eta 0:00:01\r\u001b[K     |█████████████▋                  | 471 kB 7.8 MB/s eta 0:00:01\r\u001b[K     |█████████████▉                  | 481 kB 7.8 MB/s eta 0:00:01\r\u001b[K     |██████████████▏                 | 491 kB 7.8 MB/s eta 0:00:01\r\u001b[K     |██████████████▍                 | 501 kB 7.8 MB/s eta 0:00:01\r\u001b[K     |██████████████▊                 | 512 kB 7.8 MB/s eta 0:00:01\r\u001b[K     |███████████████                 | 522 kB 7.8 MB/s eta 0:00:01\r\u001b[K     |███████████████▎                | 532 kB 7.8 MB/s eta 0:00:01\r\u001b[K     |███████████████▋                | 542 kB 7.8 MB/s eta 0:00:01\r\u001b[K     |████████████████                | 552 kB 7.8 MB/s eta 0:00:01\r\u001b[K     |████████████████▏               | 563 kB 7.8 MB/s eta 0:00:01\r\u001b[K     |████████████████▌               | 573 kB 7.8 MB/s eta 0:00:01\r\u001b[K     |████████████████▉               | 583 kB 7.8 MB/s eta 0:00:01\r\u001b[K     |█████████████████               | 593 kB 7.8 MB/s eta 0:00:01\r\u001b[K     |█████████████████▍              | 604 kB 7.8 MB/s eta 0:00:01\r\u001b[K     |█████████████████▊              | 614 kB 7.8 MB/s eta 0:00:01\r\u001b[K     |██████████████████              | 624 kB 7.8 MB/s eta 0:00:01\r\u001b[K     |██████████████████▎             | 634 kB 7.8 MB/s eta 0:00:01\r\u001b[K     |██████████████████▋             | 645 kB 7.8 MB/s eta 0:00:01\r\u001b[K     |██████████████████▉             | 655 kB 7.8 MB/s eta 0:00:01\r\u001b[K     |███████████████████▏            | 665 kB 7.8 MB/s eta 0:00:01\r\u001b[K     |███████████████████▌            | 675 kB 7.8 MB/s eta 0:00:01\r\u001b[K     |███████████████████▊            | 686 kB 7.8 MB/s eta 0:00:01\r\u001b[K     |████████████████████            | 696 kB 7.8 MB/s eta 0:00:01\r\u001b[K     |████████████████████▍           | 706 kB 7.8 MB/s eta 0:00:01\r\u001b[K     |████████████████████▋           | 716 kB 7.8 MB/s eta 0:00:01\r\u001b[K     |█████████████████████           | 727 kB 7.8 MB/s eta 0:00:01\r\u001b[K     |█████████████████████▏          | 737 kB 7.8 MB/s eta 0:00:01\r\u001b[K     |█████████████████████▌          | 747 kB 7.8 MB/s eta 0:00:01\r\u001b[K     |█████████████████████▉          | 757 kB 7.8 MB/s eta 0:00:01\r\u001b[K     |██████████████████████          | 768 kB 7.8 MB/s eta 0:00:01\r\u001b[K     |██████████████████████▍         | 778 kB 7.8 MB/s eta 0:00:01\r\u001b[K     |██████████████████████▊         | 788 kB 7.8 MB/s eta 0:00:01\r\u001b[K     |███████████████████████         | 798 kB 7.8 MB/s eta 0:00:01\r\u001b[K     |███████████████████████▎        | 808 kB 7.8 MB/s eta 0:00:01\r\u001b[K     |███████████████████████▋        | 819 kB 7.8 MB/s eta 0:00:01\r\u001b[K     |███████████████████████▉        | 829 kB 7.8 MB/s eta 0:00:01\r\u001b[K     |████████████████████████▏       | 839 kB 7.8 MB/s eta 0:00:01\r\u001b[K     |████████████████████████▌       | 849 kB 7.8 MB/s eta 0:00:01\r\u001b[K     |████████████████████████▊       | 860 kB 7.8 MB/s eta 0:00:01\r\u001b[K     |█████████████████████████       | 870 kB 7.8 MB/s eta 0:00:01\r\u001b[K     |█████████████████████████▍      | 880 kB 7.8 MB/s eta 0:00:01\r\u001b[K     |█████████████████████████▋      | 890 kB 7.8 MB/s eta 0:00:01\r\u001b[K     |██████████████████████████      | 901 kB 7.8 MB/s eta 0:00:01\r\u001b[K     |██████████████████████████▎     | 911 kB 7.8 MB/s eta 0:00:01\r\u001b[K     |██████████████████████████▌     | 921 kB 7.8 MB/s eta 0:00:01\r\u001b[K     |██████████████████████████▉     | 931 kB 7.8 MB/s eta 0:00:01\r\u001b[K     |███████████████████████████▏    | 942 kB 7.8 MB/s eta 0:00:01\r\u001b[K     |███████████████████████████▍    | 952 kB 7.8 MB/s eta 0:00:01\r\u001b[K     |███████████████████████████▊    | 962 kB 7.8 MB/s eta 0:00:01\r\u001b[K     |████████████████████████████    | 972 kB 7.8 MB/s eta 0:00:01\r\u001b[K     |████████████████████████████▎   | 983 kB 7.8 MB/s eta 0:00:01\r\u001b[K     |████████████████████████████▋   | 993 kB 7.8 MB/s eta 0:00:01\r\u001b[K     |████████████████████████████▉   | 1.0 MB 7.8 MB/s eta 0:00:01\r\u001b[K     |█████████████████████████████▏  | 1.0 MB 7.8 MB/s eta 0:00:01\r\u001b[K     |█████████████████████████████▌  | 1.0 MB 7.8 MB/s eta 0:00:01\r\u001b[K     |█████████████████████████████▊  | 1.0 MB 7.8 MB/s eta 0:00:01\r\u001b[K     |██████████████████████████████  | 1.0 MB 7.8 MB/s eta 0:00:01\r\u001b[K     |██████████████████████████████▍ | 1.1 MB 7.8 MB/s eta 0:00:01\r\u001b[K     |██████████████████████████████▋ | 1.1 MB 7.8 MB/s eta 0:00:01\r\u001b[K     |███████████████████████████████ | 1.1 MB 7.8 MB/s eta 0:00:01\r\u001b[K     |███████████████████████████████▎| 1.1 MB 7.8 MB/s eta 0:00:01\r\u001b[K     |███████████████████████████████▌| 1.1 MB 7.8 MB/s eta 0:00:01\r\u001b[K     |███████████████████████████████▉| 1.1 MB 7.8 MB/s eta 0:00:01\r\u001b[K     |████████████████████████████████| 1.1 MB 7.8 MB/s \n",
            "\u001b[?25h"
          ]
        }
      ]
    },
    {
      "cell_type": "code",
      "source": [
        "!python -m spacy download en_core_web_md -q\n",
        "\n",
        "import en_core_web_md\n",
        "from spacy.lang.en.stop_words import STOP_WORDS\n",
        "\n",
        "nlp = en_core_web_md.load()"
      ],
      "metadata": {
        "execution": {
          "iopub.status.busy": "2022-07-03T11:14:18.707503Z",
          "iopub.execute_input": "2022-07-03T11:14:18.707788Z",
          "iopub.status.idle": "2022-07-03T11:15:03.106998Z",
          "shell.execute_reply.started": "2022-07-03T11:14:18.707746Z",
          "shell.execute_reply": "2022-07-03T11:15:03.106004Z"
        },
        "trusted": true,
        "colab": {
          "base_uri": "https://localhost:8080/"
        },
        "id": "BjWFyeTVXAYF",
        "outputId": "f9fef063-9061-4ada-85a5-7e1191499d7b"
      },
      "execution_count": 2,
      "outputs": [
        {
          "output_type": "stream",
          "name": "stdout",
          "text": [
            "\u001b[K     |████████████████████████████████| 33.5 MB 1.5 MB/s \n",
            "\u001b[?25h\u001b[38;5;2m✔ Download and installation successful\u001b[0m\n",
            "You can now load the package via spacy.load('en_core_web_md')\n"
          ]
        }
      ]
    },
    {
      "cell_type": "code",
      "source": [
        "# for working on kaggle\n",
        "#tweets = pd.read_csv(\"/kaggle/input/nlp-getting-started/train.csv\")\n",
        "\n",
        "# for working in colab\n",
        "tweets = pd.read_csv(\"/content/train.csv\")\n",
        "\n",
        "tweets.head()"
      ],
      "metadata": {
        "execution": {
          "iopub.status.busy": "2022-07-03T11:15:03.203201Z",
          "iopub.execute_input": "2022-07-03T11:15:03.203559Z",
          "iopub.status.idle": "2022-07-03T11:15:03.235547Z",
          "shell.execute_reply.started": "2022-07-03T11:15:03.203520Z",
          "shell.execute_reply": "2022-07-03T11:15:03.234786Z"
        },
        "trusted": true,
        "colab": {
          "base_uri": "https://localhost:8080/",
          "height": 206
        },
        "id": "EeHoUqUqXAYG",
        "outputId": "397bb544-c6f4-4c21-8f2a-68fcdf24264b"
      },
      "execution_count": 3,
      "outputs": [
        {
          "output_type": "execute_result",
          "data": {
            "text/plain": [
              "   id keyword location                                               text  \\\n",
              "0   1     NaN      NaN  Our Deeds are the Reason of this #earthquake M...   \n",
              "1   4     NaN      NaN             Forest fire near La Ronge Sask. Canada   \n",
              "2   5     NaN      NaN  All residents asked to 'shelter in place' are ...   \n",
              "3   6     NaN      NaN  13,000 people receive #wildfires evacuation or...   \n",
              "4   7     NaN      NaN  Just got sent this photo from Ruby #Alaska as ...   \n",
              "\n",
              "   target  \n",
              "0       1  \n",
              "1       1  \n",
              "2       1  \n",
              "3       1  \n",
              "4       1  "
            ],
            "text/html": [
              "\n",
              "  <div id=\"df-67946e60-0685-45b3-ad46-4622b6a85bd9\">\n",
              "    <div class=\"colab-df-container\">\n",
              "      <div>\n",
              "<style scoped>\n",
              "    .dataframe tbody tr th:only-of-type {\n",
              "        vertical-align: middle;\n",
              "    }\n",
              "\n",
              "    .dataframe tbody tr th {\n",
              "        vertical-align: top;\n",
              "    }\n",
              "\n",
              "    .dataframe thead th {\n",
              "        text-align: right;\n",
              "    }\n",
              "</style>\n",
              "<table border=\"1\" class=\"dataframe\">\n",
              "  <thead>\n",
              "    <tr style=\"text-align: right;\">\n",
              "      <th></th>\n",
              "      <th>id</th>\n",
              "      <th>keyword</th>\n",
              "      <th>location</th>\n",
              "      <th>text</th>\n",
              "      <th>target</th>\n",
              "    </tr>\n",
              "  </thead>\n",
              "  <tbody>\n",
              "    <tr>\n",
              "      <th>0</th>\n",
              "      <td>1</td>\n",
              "      <td>NaN</td>\n",
              "      <td>NaN</td>\n",
              "      <td>Our Deeds are the Reason of this #earthquake M...</td>\n",
              "      <td>1</td>\n",
              "    </tr>\n",
              "    <tr>\n",
              "      <th>1</th>\n",
              "      <td>4</td>\n",
              "      <td>NaN</td>\n",
              "      <td>NaN</td>\n",
              "      <td>Forest fire near La Ronge Sask. Canada</td>\n",
              "      <td>1</td>\n",
              "    </tr>\n",
              "    <tr>\n",
              "      <th>2</th>\n",
              "      <td>5</td>\n",
              "      <td>NaN</td>\n",
              "      <td>NaN</td>\n",
              "      <td>All residents asked to 'shelter in place' are ...</td>\n",
              "      <td>1</td>\n",
              "    </tr>\n",
              "    <tr>\n",
              "      <th>3</th>\n",
              "      <td>6</td>\n",
              "      <td>NaN</td>\n",
              "      <td>NaN</td>\n",
              "      <td>13,000 people receive #wildfires evacuation or...</td>\n",
              "      <td>1</td>\n",
              "    </tr>\n",
              "    <tr>\n",
              "      <th>4</th>\n",
              "      <td>7</td>\n",
              "      <td>NaN</td>\n",
              "      <td>NaN</td>\n",
              "      <td>Just got sent this photo from Ruby #Alaska as ...</td>\n",
              "      <td>1</td>\n",
              "    </tr>\n",
              "  </tbody>\n",
              "</table>\n",
              "</div>\n",
              "      <button class=\"colab-df-convert\" onclick=\"convertToInteractive('df-67946e60-0685-45b3-ad46-4622b6a85bd9')\"\n",
              "              title=\"Convert this dataframe to an interactive table.\"\n",
              "              style=\"display:none;\">\n",
              "        \n",
              "  <svg xmlns=\"http://www.w3.org/2000/svg\" height=\"24px\"viewBox=\"0 0 24 24\"\n",
              "       width=\"24px\">\n",
              "    <path d=\"M0 0h24v24H0V0z\" fill=\"none\"/>\n",
              "    <path d=\"M18.56 5.44l.94 2.06.94-2.06 2.06-.94-2.06-.94-.94-2.06-.94 2.06-2.06.94zm-11 1L8.5 8.5l.94-2.06 2.06-.94-2.06-.94L8.5 2.5l-.94 2.06-2.06.94zm10 10l.94 2.06.94-2.06 2.06-.94-2.06-.94-.94-2.06-.94 2.06-2.06.94z\"/><path d=\"M17.41 7.96l-1.37-1.37c-.4-.4-.92-.59-1.43-.59-.52 0-1.04.2-1.43.59L10.3 9.45l-7.72 7.72c-.78.78-.78 2.05 0 2.83L4 21.41c.39.39.9.59 1.41.59.51 0 1.02-.2 1.41-.59l7.78-7.78 2.81-2.81c.8-.78.8-2.07 0-2.86zM5.41 20L4 18.59l7.72-7.72 1.47 1.35L5.41 20z\"/>\n",
              "  </svg>\n",
              "      </button>\n",
              "      \n",
              "  <style>\n",
              "    .colab-df-container {\n",
              "      display:flex;\n",
              "      flex-wrap:wrap;\n",
              "      gap: 12px;\n",
              "    }\n",
              "\n",
              "    .colab-df-convert {\n",
              "      background-color: #E8F0FE;\n",
              "      border: none;\n",
              "      border-radius: 50%;\n",
              "      cursor: pointer;\n",
              "      display: none;\n",
              "      fill: #1967D2;\n",
              "      height: 32px;\n",
              "      padding: 0 0 0 0;\n",
              "      width: 32px;\n",
              "    }\n",
              "\n",
              "    .colab-df-convert:hover {\n",
              "      background-color: #E2EBFA;\n",
              "      box-shadow: 0px 1px 2px rgba(60, 64, 67, 0.3), 0px 1px 3px 1px rgba(60, 64, 67, 0.15);\n",
              "      fill: #174EA6;\n",
              "    }\n",
              "\n",
              "    [theme=dark] .colab-df-convert {\n",
              "      background-color: #3B4455;\n",
              "      fill: #D2E3FC;\n",
              "    }\n",
              "\n",
              "    [theme=dark] .colab-df-convert:hover {\n",
              "      background-color: #434B5C;\n",
              "      box-shadow: 0px 1px 3px 1px rgba(0, 0, 0, 0.15);\n",
              "      filter: drop-shadow(0px 1px 2px rgba(0, 0, 0, 0.3));\n",
              "      fill: #FFFFFF;\n",
              "    }\n",
              "  </style>\n",
              "\n",
              "      <script>\n",
              "        const buttonEl =\n",
              "          document.querySelector('#df-67946e60-0685-45b3-ad46-4622b6a85bd9 button.colab-df-convert');\n",
              "        buttonEl.style.display =\n",
              "          google.colab.kernel.accessAllowed ? 'block' : 'none';\n",
              "\n",
              "        async function convertToInteractive(key) {\n",
              "          const element = document.querySelector('#df-67946e60-0685-45b3-ad46-4622b6a85bd9');\n",
              "          const dataTable =\n",
              "            await google.colab.kernel.invokeFunction('convertToInteractive',\n",
              "                                                     [key], {});\n",
              "          if (!dataTable) return;\n",
              "\n",
              "          const docLinkHtml = 'Like what you see? Visit the ' +\n",
              "            '<a target=\"_blank\" href=https://colab.research.google.com/notebooks/data_table.ipynb>data table notebook</a>'\n",
              "            + ' to learn more about interactive tables.';\n",
              "          element.innerHTML = '';\n",
              "          dataTable['output_type'] = 'display_data';\n",
              "          await google.colab.output.renderOutput(dataTable, element);\n",
              "          const docLink = document.createElement('div');\n",
              "          docLink.innerHTML = docLinkHtml;\n",
              "          element.appendChild(docLink);\n",
              "        }\n",
              "      </script>\n",
              "    </div>\n",
              "  </div>\n",
              "  "
            ]
          },
          "metadata": {},
          "execution_count": 3
        }
      ]
    },
    {
      "cell_type": "markdown",
      "source": [
        "### Clean up tweets"
      ],
      "metadata": {
        "id": "rP3oUZawkUey"
      }
    },
    {
      "cell_type": "code",
      "source": [
        "# add location name to text if it exists\n",
        "tweets['location'] = tweets['location'].fillna(\" \")\n",
        "tweets['text_location'] = tweets['text'] + \" \" + tweets['location']\n",
        "\n",
        "# remove https\n",
        "tweets['text_clean'] = tweets['text_location'].str.replace(r\"https?:\\/\\/(www\\.)?[-a-zA-Z0-9@:%._\\+~#=]{1,256}\\.[a-zA-Z0-9()]{1,6}\\b([-a-zA-Z0-9()@:%_\\+.~#?&//=]*)\", \" \")\n",
        "#remove tags\n",
        "tweets['text_clean'] = tweets['text_clean'].str.replace(r\"@[-a-zA-Z0-9@:%._\\+~#=]{1,256}\\s\", \" \")\n",
        "# remove control characters  \n",
        "tweets['text_clean'] = tweets['text_clean'].str.replace(r\"\\&(.*?)\\;\", \" \")\n",
        "tweets['text_clean'] = tweets['text_clean'].str.replace(r\"\\n\", \" \")\n",
        "\n",
        "#remove emojis and other special characters\n",
        "tweets['text_clean'] = tweets['text_clean'].str.replace(r\"åÊ\", \" \")\n",
        "tweets['text_clean'] = tweets['text_clean'].str.replace(r\"ÛÓ\", \" \")\n",
        "tweets['text_clean'] = tweets['text_clean'].str.replace(r\"ÛÒ\", \" \")\n",
        "tweets['text_clean'] = tweets['text_clean'].str.replace(r\"Û\", \" \")\n",
        "tweets['text_clean'] = tweets['text_clean'].str.replace(r\"[!@#$%^&*(),.?\\\\/\\\":{}|<>ã¢;ª-]\", \" \")\n",
        "#tweets['text_clean'] = tweets['text_clean'].str.replace(r\"[0-9]+\", \" \")\n",
        "\n",
        "#remove single characters\n",
        "tweets['text_clean'] = tweets['text_clean'].str.replace(r\"\\s[a-z]\\s\", \" \")\n",
        "tweets['text_clean'] = tweets['text_clean'].str.replace(r\"\\s[a-z]\\s\", \" \")\n",
        "\n",
        "# substitute capitalized character with lower case, tokenize, lemmatize, remove stop words\n",
        "tweets['text_clean'] = tweets['text_clean'].apply(lambda x:''.join(ch for ch in x if ch.isalnum() or ch==\" \" or ch==\"'\"))\n",
        "tweets['text_clean'] = tweets['text_clean'].apply(lambda x: x.replace(\" +\",\" \").lower().strip())\n",
        "tweets['text_clean'] = tweets['text_clean'].apply(lambda x: \" \".join([token.lemma_ for token in nlp(x) if (token.lemma_ not in STOP_WORDS) & (token.text not in STOP_WORDS)]))\n",
        "tweets['text_clean'] = tweets['text_clean'].str.replace(r\"[']\", \" \")\n",
        "tweets['text_clean'] = tweets['text_clean'].str.replace(r\"[']\", \" \")\n"
      ],
      "metadata": {
        "execution": {
          "iopub.status.busy": "2022-07-03T11:15:03.237193Z",
          "iopub.execute_input": "2022-07-03T11:15:03.237544Z",
          "iopub.status.idle": "2022-07-03T11:16:11.650760Z",
          "shell.execute_reply.started": "2022-07-03T11:15:03.237486Z",
          "shell.execute_reply": "2022-07-03T11:16:11.649785Z"
        },
        "trusted": true,
        "colab": {
          "base_uri": "https://localhost:8080/"
        },
        "id": "voV93GgkXAYG",
        "outputId": "bf15cc3f-4bdc-4efb-b7d0-8bdb1de48db6"
      },
      "execution_count": 4,
      "outputs": [
        {
          "output_type": "stream",
          "name": "stderr",
          "text": [
            "/usr/local/lib/python3.7/dist-packages/ipykernel_launcher.py:6: FutureWarning: The default value of regex will change from True to False in a future version.\n",
            "  \n",
            "/usr/local/lib/python3.7/dist-packages/ipykernel_launcher.py:8: FutureWarning: The default value of regex will change from True to False in a future version.\n",
            "  \n",
            "/usr/local/lib/python3.7/dist-packages/ipykernel_launcher.py:10: FutureWarning: The default value of regex will change from True to False in a future version.\n",
            "  # Remove the CWD from sys.path while we load stuff.\n",
            "/usr/local/lib/python3.7/dist-packages/ipykernel_launcher.py:11: FutureWarning: The default value of regex will change from True to False in a future version.\n",
            "  # This is added back by InteractiveShellApp.init_path()\n",
            "/usr/local/lib/python3.7/dist-packages/ipykernel_launcher.py:18: FutureWarning: The default value of regex will change from True to False in a future version.\n",
            "/usr/local/lib/python3.7/dist-packages/ipykernel_launcher.py:22: FutureWarning: The default value of regex will change from True to False in a future version.\n",
            "/usr/local/lib/python3.7/dist-packages/ipykernel_launcher.py:23: FutureWarning: The default value of regex will change from True to False in a future version.\n",
            "/usr/local/lib/python3.7/dist-packages/ipykernel_launcher.py:29: FutureWarning: The default value of regex will change from True to False in a future version.\n",
            "/usr/local/lib/python3.7/dist-packages/ipykernel_launcher.py:30: FutureWarning: The default value of regex will change from True to False in a future version.\n"
          ]
        }
      ]
    },
    {
      "cell_type": "code",
      "source": [
        "pd.set_option('display.max_rows', None)\n",
        "pd.set_option('display.width', None)\n",
        "pd.set_option('display.max_colwidth', -1)\n",
        "\n",
        "tweets[['text_location', 'text_clean']].head(50)"
      ],
      "metadata": {
        "execution": {
          "iopub.status.busy": "2022-07-03T11:16:11.651919Z",
          "iopub.execute_input": "2022-07-03T11:16:11.652741Z",
          "iopub.status.idle": "2022-07-03T11:16:11.672563Z",
          "shell.execute_reply.started": "2022-07-03T11:16:11.652687Z",
          "shell.execute_reply": "2022-07-03T11:16:11.671551Z"
        },
        "trusted": true,
        "colab": {
          "base_uri": "https://localhost:8080/",
          "height": 1000
        },
        "id": "8do-r00LXAYH",
        "outputId": "d753f2ea-2954-4314-9d7a-4d1624df0bc3"
      },
      "execution_count": 5,
      "outputs": [
        {
          "output_type": "stream",
          "name": "stderr",
          "text": [
            "/usr/local/lib/python3.7/dist-packages/ipykernel_launcher.py:3: FutureWarning: Passing a negative integer is deprecated in version 1.0 and will not be supported in future version. Instead, use None to not limit the column width.\n",
            "  This is separate from the ipykernel package so we can avoid doing imports until\n"
          ]
        },
        {
          "output_type": "execute_result",
          "data": {
            "text/plain": [
              "                                                                                                                                          text_location  \\\n",
              "0   Our Deeds are the Reason of this #earthquake May ALLAH Forgive us all                                                                                 \n",
              "1   Forest fire near La Ronge Sask. Canada                                                                                                                \n",
              "2   All residents asked to 'shelter in place' are being notified by officers. No other evacuation or shelter in place orders are expected                 \n",
              "3   13,000 people receive #wildfires evacuation orders in California                                                                                      \n",
              "4   Just got sent this photo from Ruby #Alaska as smoke from #wildfires pours into a school                                                               \n",
              "5   #RockyFire Update => California Hwy. 20 closed in both directions due to Lake County fire - #CAfire #wildfires                                        \n",
              "6   #flood #disaster Heavy rain causes flash flooding of streets in Manitou, Colorado Springs areas                                                       \n",
              "7   I'm on top of the hill and I can see a fire in the woods...                                                                                           \n",
              "8   There's an emergency evacuation happening now in the building across the street                                                                       \n",
              "9   I'm afraid that the tornado is coming to our area...                                                                                                  \n",
              "10  Three people died from the heat wave so far                                                                                                           \n",
              "11  Haha South Tampa is getting flooded hah- WAIT A SECOND I LIVE IN SOUTH TAMPA WHAT AM I GONNA DO WHAT AM I GONNA DO FVCK #flooding                     \n",
              "12  #raining #flooding #Florida #TampaBay #Tampa 18 or 19 days. I've lost count                                                                           \n",
              "13  #Flood in Bago Myanmar #We arrived Bago                                                                                                               \n",
              "14  Damage to school bus on 80 in multi car crash #BREAKING                                                                                               \n",
              "15  What's up man?                                                                                                                                        \n",
              "16  I love fruits                                                                                                                                         \n",
              "17  Summer is lovely                                                                                                                                      \n",
              "18  My car is so fast                                                                                                                                     \n",
              "19  What a goooooooaaaaaal!!!!!!                                                                                                                          \n",
              "20  this is ridiculous....                                                                                                                                \n",
              "21  London is cool ;)                                                                                                                                     \n",
              "22  Love skiing                                                                                                                                           \n",
              "23  What a wonderful day!                                                                                                                                 \n",
              "24  LOOOOOOL                                                                                                                                              \n",
              "25  No way...I can't eat that shit                                                                                                                        \n",
              "26  Was in NYC last week!                                                                                                                                 \n",
              "27  Love my girlfriend                                                                                                                                    \n",
              "28  Cooool :)                                                                                                                                             \n",
              "29  Do you like pasta?                                                                                                                                    \n",
              "30  The end!                                                                                                                                              \n",
              "31  @bbcmtd Wholesale Markets ablaze http://t.co/lHYXEOHY6C Birmingham                                                                                    \n",
              "32  We always try to bring the heavy. #metal #RT http://t.co/YAo1e0xngw Est. September 2012 - Bristol                                                     \n",
              "33  #AFRICANBAZE: Breaking news:Nigeria flag set ablaze in Aba. http://t.co/2nndBGwyEi AFRICA                                                             \n",
              "34  Crying out for more! Set me ablaze Philadelphia, PA                                                                                                   \n",
              "35  On plus side LOOK AT THE SKY LAST NIGHT IT WAS ABLAZE http://t.co/qqsmshaJ3N London, UK                                                               \n",
              "36  @PhDSquares #mufc they've built so much hype around new acquisitions but I doubt they will set the EPL ablaze this season. Pretoria                   \n",
              "37  INEC Office in Abia Set Ablaze - http://t.co/3ImaomknnA World Wide!!                                                                                  \n",
              "38  Barbados #Bridgetown JAMAICA ÛÒ Two cars set ablaze: SANTA CRUZ ÛÓ Head of the St Elizabeth Police Superintende...  http://t.co/wDUEaj8Q4J          \n",
              "39  Ablaze for you Lord :D Paranaque City                                                                                                                 \n",
              "40  Check these out: http://t.co/rOI2NSmEJJ http://t.co/3Tj8ZjiN21 http://t.co/YDUiXEfIpE http://t.co/LxTjc87KLS #nsfw Live On Webcam                     \n",
              "41  on the outside you're ablaze and alive\\nbut you're dead inside                                                                                        \n",
              "42  Had an awesome time visiting the CFC head office the ancop site and ablaze. Thanks to Tita Vida for taking care of us ?? milky way                    \n",
              "43  SOOOO PUMPED FOR ABLAZE ???? @southridgelife                                                                                                          \n",
              "44  I wanted to set Chicago ablaze with my preaching... But not my hotel! http://t.co/o9qknbfOFX                                                          \n",
              "45  I gained 3 followers in the last week. You? Know your stats and grow with http://t.co/TIyUliF5c6                                                      \n",
              "46  How the West was burned: Thousands of wildfires ablaze in California alone http://t.co/vl5TBR3wbr GREENSBORO,NORTH CAROLINA                           \n",
              "47  Building the perfect tracklist to life leave the streets ablaze                                                                                       \n",
              "48  Check these out: http://t.co/rOI2NSmEJJ http://t.co/3Tj8ZjiN21 http://t.co/YDUiXEfIpE http://t.co/LxTjc87KLS #nsfw Live On Webcam                     \n",
              "49  First night with retainers in. It's quite weird. Better get used to it; I have to wear them every single night for the next year at least. England.   \n",
              "\n",
              "                                                                                                 text_clean  \n",
              "0   deed reason   earthquake allah forgive                                                                   \n",
              "1   forest fire near la ronge sask   canada                                                                  \n",
              "2   resident ask   shelter place   notify officer   evacuation shelter place order expect                    \n",
              "3   13 000 people receive   wildfire evacuation order california                                             \n",
              "4   got send photo ruby   alaska smoke   wildfire pour school                                                \n",
              "5   rockyfire update    california hwy   20 close direction lake county fire     cafire   wildfire           \n",
              "6   flood   disaster heavy rain cause flash flooding street manitou   colorado spring area                   \n",
              "7   hill fire wood                                                                                           \n",
              "8   emergency evacuation happen building street                                                              \n",
              "9   afraid tornado come area                                                                                 \n",
              "10  people die heat wave far                                                                                 \n",
              "11  haha south tampa getting flood hah   wait second live south tampa fvck   flooding                        \n",
              "12  rain   flooding   florida   tampabay   tampa 18 19 day   lose count                                      \n",
              "13  flood bago myanmar   arrive bago                                                                         \n",
              "14  damage school bus 80 multi car crash   breaking                                                          \n",
              "15  man                                                                                                      \n",
              "16  love fruit                                                                                               \n",
              "17  summer lovely                                                                                            \n",
              "18  car fast                                                                                                 \n",
              "19  goooooooaaaaaal                                                                                          \n",
              "20  ridiculous                                                                                               \n",
              "21  london cool                                                                                              \n",
              "22  love skiing                                                                                              \n",
              "23  wonderful day                                                                                            \n",
              "24  looooool                                                                                                 \n",
              "25  way    eat shit                                                                                          \n",
              "26  nyc week                                                                                                 \n",
              "27  love girlfriend                                                                                          \n",
              "28  cooool                                                                                                   \n",
              "29  like pasta                                                                                               \n",
              "30  end                                                                                                      \n",
              "31  wholesale market ablaze    birmingham                                                                    \n",
              "32  try bring heavy    metal   rt    est   september 2012    bristol                                         \n",
              "33  africanbaze   break news nigeria flag set ablaze aba     africa                                          \n",
              "34  cry   set ablaze philadelphia   pa                                                                       \n",
              "35  plus look sky night ablaze    london   uk                                                                \n",
              "36  mufc build hype new acquisition doubt set epl ablaze season   pretoria                                   \n",
              "37  inec office abia set ablaze      world wide                                                              \n",
              "38  barbados   bridgetown jamaica     car set ablaze   santa cruz     head st elizabeth police superintende  \n",
              "39  ablaze lord   d paranaque city                                                                           \n",
              "40  check            nsfw live webcam                                                                        \n",
              "41  outside ablaze alive dead inside                                                                         \n",
              "42  awesome time visit cfc head office ancop site ablaze   thank tita vida care     milky way                \n",
              "43  soooo pump ablaze                                                                                        \n",
              "44  want set chicago ablaze preach     hotel                                                                 \n",
              "45  gain 3 follower week     know stat grow                                                                  \n",
              "46  west burn   thousand wildfire ablaze california    greensboro north carolina                             \n",
              "47  build perfect tracklist life leave street ablaze                                                         \n",
              "48  check            nsfw live webcam                                                                        \n",
              "49  night retainer   weird     wear single night year   england                                              "
            ],
            "text/html": [
              "\n",
              "  <div id=\"df-e16f284c-0b53-4506-8498-e149f57a5983\">\n",
              "    <div class=\"colab-df-container\">\n",
              "      <div>\n",
              "<style scoped>\n",
              "    .dataframe tbody tr th:only-of-type {\n",
              "        vertical-align: middle;\n",
              "    }\n",
              "\n",
              "    .dataframe tbody tr th {\n",
              "        vertical-align: top;\n",
              "    }\n",
              "\n",
              "    .dataframe thead th {\n",
              "        text-align: right;\n",
              "    }\n",
              "</style>\n",
              "<table border=\"1\" class=\"dataframe\">\n",
              "  <thead>\n",
              "    <tr style=\"text-align: right;\">\n",
              "      <th></th>\n",
              "      <th>text_location</th>\n",
              "      <th>text_clean</th>\n",
              "    </tr>\n",
              "  </thead>\n",
              "  <tbody>\n",
              "    <tr>\n",
              "      <th>0</th>\n",
              "      <td>Our Deeds are the Reason of this #earthquake May ALLAH Forgive us all</td>\n",
              "      <td>deed reason   earthquake allah forgive</td>\n",
              "    </tr>\n",
              "    <tr>\n",
              "      <th>1</th>\n",
              "      <td>Forest fire near La Ronge Sask. Canada</td>\n",
              "      <td>forest fire near la ronge sask   canada</td>\n",
              "    </tr>\n",
              "    <tr>\n",
              "      <th>2</th>\n",
              "      <td>All residents asked to 'shelter in place' are being notified by officers. No other evacuation or shelter in place orders are expected</td>\n",
              "      <td>resident ask   shelter place   notify officer   evacuation shelter place order expect</td>\n",
              "    </tr>\n",
              "    <tr>\n",
              "      <th>3</th>\n",
              "      <td>13,000 people receive #wildfires evacuation orders in California</td>\n",
              "      <td>13 000 people receive   wildfire evacuation order california</td>\n",
              "    </tr>\n",
              "    <tr>\n",
              "      <th>4</th>\n",
              "      <td>Just got sent this photo from Ruby #Alaska as smoke from #wildfires pours into a school</td>\n",
              "      <td>got send photo ruby   alaska smoke   wildfire pour school</td>\n",
              "    </tr>\n",
              "    <tr>\n",
              "      <th>5</th>\n",
              "      <td>#RockyFire Update =&gt; California Hwy. 20 closed in both directions due to Lake County fire - #CAfire #wildfires</td>\n",
              "      <td>rockyfire update    california hwy   20 close direction lake county fire     cafire   wildfire</td>\n",
              "    </tr>\n",
              "    <tr>\n",
              "      <th>6</th>\n",
              "      <td>#flood #disaster Heavy rain causes flash flooding of streets in Manitou, Colorado Springs areas</td>\n",
              "      <td>flood   disaster heavy rain cause flash flooding street manitou   colorado spring area</td>\n",
              "    </tr>\n",
              "    <tr>\n",
              "      <th>7</th>\n",
              "      <td>I'm on top of the hill and I can see a fire in the woods...</td>\n",
              "      <td>hill fire wood</td>\n",
              "    </tr>\n",
              "    <tr>\n",
              "      <th>8</th>\n",
              "      <td>There's an emergency evacuation happening now in the building across the street</td>\n",
              "      <td>emergency evacuation happen building street</td>\n",
              "    </tr>\n",
              "    <tr>\n",
              "      <th>9</th>\n",
              "      <td>I'm afraid that the tornado is coming to our area...</td>\n",
              "      <td>afraid tornado come area</td>\n",
              "    </tr>\n",
              "    <tr>\n",
              "      <th>10</th>\n",
              "      <td>Three people died from the heat wave so far</td>\n",
              "      <td>people die heat wave far</td>\n",
              "    </tr>\n",
              "    <tr>\n",
              "      <th>11</th>\n",
              "      <td>Haha South Tampa is getting flooded hah- WAIT A SECOND I LIVE IN SOUTH TAMPA WHAT AM I GONNA DO WHAT AM I GONNA DO FVCK #flooding</td>\n",
              "      <td>haha south tampa getting flood hah   wait second live south tampa fvck   flooding</td>\n",
              "    </tr>\n",
              "    <tr>\n",
              "      <th>12</th>\n",
              "      <td>#raining #flooding #Florida #TampaBay #Tampa 18 or 19 days. I've lost count</td>\n",
              "      <td>rain   flooding   florida   tampabay   tampa 18 19 day   lose count</td>\n",
              "    </tr>\n",
              "    <tr>\n",
              "      <th>13</th>\n",
              "      <td>#Flood in Bago Myanmar #We arrived Bago</td>\n",
              "      <td>flood bago myanmar   arrive bago</td>\n",
              "    </tr>\n",
              "    <tr>\n",
              "      <th>14</th>\n",
              "      <td>Damage to school bus on 80 in multi car crash #BREAKING</td>\n",
              "      <td>damage school bus 80 multi car crash   breaking</td>\n",
              "    </tr>\n",
              "    <tr>\n",
              "      <th>15</th>\n",
              "      <td>What's up man?</td>\n",
              "      <td>man</td>\n",
              "    </tr>\n",
              "    <tr>\n",
              "      <th>16</th>\n",
              "      <td>I love fruits</td>\n",
              "      <td>love fruit</td>\n",
              "    </tr>\n",
              "    <tr>\n",
              "      <th>17</th>\n",
              "      <td>Summer is lovely</td>\n",
              "      <td>summer lovely</td>\n",
              "    </tr>\n",
              "    <tr>\n",
              "      <th>18</th>\n",
              "      <td>My car is so fast</td>\n",
              "      <td>car fast</td>\n",
              "    </tr>\n",
              "    <tr>\n",
              "      <th>19</th>\n",
              "      <td>What a goooooooaaaaaal!!!!!!</td>\n",
              "      <td>goooooooaaaaaal</td>\n",
              "    </tr>\n",
              "    <tr>\n",
              "      <th>20</th>\n",
              "      <td>this is ridiculous....</td>\n",
              "      <td>ridiculous</td>\n",
              "    </tr>\n",
              "    <tr>\n",
              "      <th>21</th>\n",
              "      <td>London is cool ;)</td>\n",
              "      <td>london cool</td>\n",
              "    </tr>\n",
              "    <tr>\n",
              "      <th>22</th>\n",
              "      <td>Love skiing</td>\n",
              "      <td>love skiing</td>\n",
              "    </tr>\n",
              "    <tr>\n",
              "      <th>23</th>\n",
              "      <td>What a wonderful day!</td>\n",
              "      <td>wonderful day</td>\n",
              "    </tr>\n",
              "    <tr>\n",
              "      <th>24</th>\n",
              "      <td>LOOOOOOL</td>\n",
              "      <td>looooool</td>\n",
              "    </tr>\n",
              "    <tr>\n",
              "      <th>25</th>\n",
              "      <td>No way...I can't eat that shit</td>\n",
              "      <td>way    eat shit</td>\n",
              "    </tr>\n",
              "    <tr>\n",
              "      <th>26</th>\n",
              "      <td>Was in NYC last week!</td>\n",
              "      <td>nyc week</td>\n",
              "    </tr>\n",
              "    <tr>\n",
              "      <th>27</th>\n",
              "      <td>Love my girlfriend</td>\n",
              "      <td>love girlfriend</td>\n",
              "    </tr>\n",
              "    <tr>\n",
              "      <th>28</th>\n",
              "      <td>Cooool :)</td>\n",
              "      <td>cooool</td>\n",
              "    </tr>\n",
              "    <tr>\n",
              "      <th>29</th>\n",
              "      <td>Do you like pasta?</td>\n",
              "      <td>like pasta</td>\n",
              "    </tr>\n",
              "    <tr>\n",
              "      <th>30</th>\n",
              "      <td>The end!</td>\n",
              "      <td>end</td>\n",
              "    </tr>\n",
              "    <tr>\n",
              "      <th>31</th>\n",
              "      <td>@bbcmtd Wholesale Markets ablaze http://t.co/lHYXEOHY6C Birmingham</td>\n",
              "      <td>wholesale market ablaze    birmingham</td>\n",
              "    </tr>\n",
              "    <tr>\n",
              "      <th>32</th>\n",
              "      <td>We always try to bring the heavy. #metal #RT http://t.co/YAo1e0xngw Est. September 2012 - Bristol</td>\n",
              "      <td>try bring heavy    metal   rt    est   september 2012    bristol</td>\n",
              "    </tr>\n",
              "    <tr>\n",
              "      <th>33</th>\n",
              "      <td>#AFRICANBAZE: Breaking news:Nigeria flag set ablaze in Aba. http://t.co/2nndBGwyEi AFRICA</td>\n",
              "      <td>africanbaze   break news nigeria flag set ablaze aba     africa</td>\n",
              "    </tr>\n",
              "    <tr>\n",
              "      <th>34</th>\n",
              "      <td>Crying out for more! Set me ablaze Philadelphia, PA</td>\n",
              "      <td>cry   set ablaze philadelphia   pa</td>\n",
              "    </tr>\n",
              "    <tr>\n",
              "      <th>35</th>\n",
              "      <td>On plus side LOOK AT THE SKY LAST NIGHT IT WAS ABLAZE http://t.co/qqsmshaJ3N London, UK</td>\n",
              "      <td>plus look sky night ablaze    london   uk</td>\n",
              "    </tr>\n",
              "    <tr>\n",
              "      <th>36</th>\n",
              "      <td>@PhDSquares #mufc they've built so much hype around new acquisitions but I doubt they will set the EPL ablaze this season. Pretoria</td>\n",
              "      <td>mufc build hype new acquisition doubt set epl ablaze season   pretoria</td>\n",
              "    </tr>\n",
              "    <tr>\n",
              "      <th>37</th>\n",
              "      <td>INEC Office in Abia Set Ablaze - http://t.co/3ImaomknnA World Wide!!</td>\n",
              "      <td>inec office abia set ablaze      world wide</td>\n",
              "    </tr>\n",
              "    <tr>\n",
              "      <th>38</th>\n",
              "      <td>Barbados #Bridgetown JAMAICA ÛÒ Two cars set ablaze: SANTA CRUZ ÛÓ Head of the St Elizabeth Police Superintende...  http://t.co/wDUEaj8Q4J</td>\n",
              "      <td>barbados   bridgetown jamaica     car set ablaze   santa cruz     head st elizabeth police superintende</td>\n",
              "    </tr>\n",
              "    <tr>\n",
              "      <th>39</th>\n",
              "      <td>Ablaze for you Lord :D Paranaque City</td>\n",
              "      <td>ablaze lord   d paranaque city</td>\n",
              "    </tr>\n",
              "    <tr>\n",
              "      <th>40</th>\n",
              "      <td>Check these out: http://t.co/rOI2NSmEJJ http://t.co/3Tj8ZjiN21 http://t.co/YDUiXEfIpE http://t.co/LxTjc87KLS #nsfw Live On Webcam</td>\n",
              "      <td>check            nsfw live webcam</td>\n",
              "    </tr>\n",
              "    <tr>\n",
              "      <th>41</th>\n",
              "      <td>on the outside you're ablaze and alive\\nbut you're dead inside</td>\n",
              "      <td>outside ablaze alive dead inside</td>\n",
              "    </tr>\n",
              "    <tr>\n",
              "      <th>42</th>\n",
              "      <td>Had an awesome time visiting the CFC head office the ancop site and ablaze. Thanks to Tita Vida for taking care of us ?? milky way</td>\n",
              "      <td>awesome time visit cfc head office ancop site ablaze   thank tita vida care     milky way</td>\n",
              "    </tr>\n",
              "    <tr>\n",
              "      <th>43</th>\n",
              "      <td>SOOOO PUMPED FOR ABLAZE ???? @southridgelife</td>\n",
              "      <td>soooo pump ablaze</td>\n",
              "    </tr>\n",
              "    <tr>\n",
              "      <th>44</th>\n",
              "      <td>I wanted to set Chicago ablaze with my preaching... But not my hotel! http://t.co/o9qknbfOFX</td>\n",
              "      <td>want set chicago ablaze preach     hotel</td>\n",
              "    </tr>\n",
              "    <tr>\n",
              "      <th>45</th>\n",
              "      <td>I gained 3 followers in the last week. You? Know your stats and grow with http://t.co/TIyUliF5c6</td>\n",
              "      <td>gain 3 follower week     know stat grow</td>\n",
              "    </tr>\n",
              "    <tr>\n",
              "      <th>46</th>\n",
              "      <td>How the West was burned: Thousands of wildfires ablaze in California alone http://t.co/vl5TBR3wbr GREENSBORO,NORTH CAROLINA</td>\n",
              "      <td>west burn   thousand wildfire ablaze california    greensboro north carolina</td>\n",
              "    </tr>\n",
              "    <tr>\n",
              "      <th>47</th>\n",
              "      <td>Building the perfect tracklist to life leave the streets ablaze</td>\n",
              "      <td>build perfect tracklist life leave street ablaze</td>\n",
              "    </tr>\n",
              "    <tr>\n",
              "      <th>48</th>\n",
              "      <td>Check these out: http://t.co/rOI2NSmEJJ http://t.co/3Tj8ZjiN21 http://t.co/YDUiXEfIpE http://t.co/LxTjc87KLS #nsfw Live On Webcam</td>\n",
              "      <td>check            nsfw live webcam</td>\n",
              "    </tr>\n",
              "    <tr>\n",
              "      <th>49</th>\n",
              "      <td>First night with retainers in. It's quite weird. Better get used to it; I have to wear them every single night for the next year at least. England.</td>\n",
              "      <td>night retainer   weird     wear single night year   england</td>\n",
              "    </tr>\n",
              "  </tbody>\n",
              "</table>\n",
              "</div>\n",
              "      <button class=\"colab-df-convert\" onclick=\"convertToInteractive('df-e16f284c-0b53-4506-8498-e149f57a5983')\"\n",
              "              title=\"Convert this dataframe to an interactive table.\"\n",
              "              style=\"display:none;\">\n",
              "        \n",
              "  <svg xmlns=\"http://www.w3.org/2000/svg\" height=\"24px\"viewBox=\"0 0 24 24\"\n",
              "       width=\"24px\">\n",
              "    <path d=\"M0 0h24v24H0V0z\" fill=\"none\"/>\n",
              "    <path d=\"M18.56 5.44l.94 2.06.94-2.06 2.06-.94-2.06-.94-.94-2.06-.94 2.06-2.06.94zm-11 1L8.5 8.5l.94-2.06 2.06-.94-2.06-.94L8.5 2.5l-.94 2.06-2.06.94zm10 10l.94 2.06.94-2.06 2.06-.94-2.06-.94-.94-2.06-.94 2.06-2.06.94z\"/><path d=\"M17.41 7.96l-1.37-1.37c-.4-.4-.92-.59-1.43-.59-.52 0-1.04.2-1.43.59L10.3 9.45l-7.72 7.72c-.78.78-.78 2.05 0 2.83L4 21.41c.39.39.9.59 1.41.59.51 0 1.02-.2 1.41-.59l7.78-7.78 2.81-2.81c.8-.78.8-2.07 0-2.86zM5.41 20L4 18.59l7.72-7.72 1.47 1.35L5.41 20z\"/>\n",
              "  </svg>\n",
              "      </button>\n",
              "      \n",
              "  <style>\n",
              "    .colab-df-container {\n",
              "      display:flex;\n",
              "      flex-wrap:wrap;\n",
              "      gap: 12px;\n",
              "    }\n",
              "\n",
              "    .colab-df-convert {\n",
              "      background-color: #E8F0FE;\n",
              "      border: none;\n",
              "      border-radius: 50%;\n",
              "      cursor: pointer;\n",
              "      display: none;\n",
              "      fill: #1967D2;\n",
              "      height: 32px;\n",
              "      padding: 0 0 0 0;\n",
              "      width: 32px;\n",
              "    }\n",
              "\n",
              "    .colab-df-convert:hover {\n",
              "      background-color: #E2EBFA;\n",
              "      box-shadow: 0px 1px 2px rgba(60, 64, 67, 0.3), 0px 1px 3px 1px rgba(60, 64, 67, 0.15);\n",
              "      fill: #174EA6;\n",
              "    }\n",
              "\n",
              "    [theme=dark] .colab-df-convert {\n",
              "      background-color: #3B4455;\n",
              "      fill: #D2E3FC;\n",
              "    }\n",
              "\n",
              "    [theme=dark] .colab-df-convert:hover {\n",
              "      background-color: #434B5C;\n",
              "      box-shadow: 0px 1px 3px 1px rgba(0, 0, 0, 0.15);\n",
              "      filter: drop-shadow(0px 1px 2px rgba(0, 0, 0, 0.3));\n",
              "      fill: #FFFFFF;\n",
              "    }\n",
              "  </style>\n",
              "\n",
              "      <script>\n",
              "        const buttonEl =\n",
              "          document.querySelector('#df-e16f284c-0b53-4506-8498-e149f57a5983 button.colab-df-convert');\n",
              "        buttonEl.style.display =\n",
              "          google.colab.kernel.accessAllowed ? 'block' : 'none';\n",
              "\n",
              "        async function convertToInteractive(key) {\n",
              "          const element = document.querySelector('#df-e16f284c-0b53-4506-8498-e149f57a5983');\n",
              "          const dataTable =\n",
              "            await google.colab.kernel.invokeFunction('convertToInteractive',\n",
              "                                                     [key], {});\n",
              "          if (!dataTable) return;\n",
              "\n",
              "          const docLinkHtml = 'Like what you see? Visit the ' +\n",
              "            '<a target=\"_blank\" href=https://colab.research.google.com/notebooks/data_table.ipynb>data table notebook</a>'\n",
              "            + ' to learn more about interactive tables.';\n",
              "          element.innerHTML = '';\n",
              "          dataTable['output_type'] = 'display_data';\n",
              "          await google.colab.output.renderOutput(dataTable, element);\n",
              "          const docLink = document.createElement('div');\n",
              "          docLink.innerHTML = docLinkHtml;\n",
              "          element.appendChild(docLink);\n",
              "        }\n",
              "      </script>\n",
              "    </div>\n",
              "  </div>\n",
              "  "
            ]
          },
          "metadata": {},
          "execution_count": 5
        }
      ]
    },
    {
      "cell_type": "code",
      "source": [
        "tokenizer = tf.keras.preprocessing.text.Tokenizer()\n",
        "tokenizer.fit_on_texts(tweets.text_clean)\n",
        "\n",
        "tweets[\"text_encoded\"] = tokenizer.texts_to_sequences(tweets.text_clean)\n",
        "\n",
        "#tweets[\"len_text\"] = tweets[\"text_encoded\"].apply(lambda x: len(x))\n",
        "#tweets = tweets[tweets[\"len_text\"]!=0]\n",
        "#tweets = tweets.drop('len_text', axis=1)\n",
        "\n",
        "tweets.head(20)"
      ],
      "metadata": {
        "execution": {
          "iopub.status.busy": "2022-07-03T11:17:20.036732Z",
          "iopub.execute_input": "2022-07-03T11:17:20.037040Z",
          "iopub.status.idle": "2022-07-03T11:17:20.327112Z",
          "shell.execute_reply.started": "2022-07-03T11:17:20.037002Z",
          "shell.execute_reply": "2022-07-03T11:17:20.326365Z"
        },
        "trusted": true,
        "colab": {
          "base_uri": "https://localhost:8080/",
          "height": 1000
        },
        "id": "kC7uyQIXXAYH",
        "outputId": "deb24fd9-ae33-4dfd-a239-82096f13cf91"
      },
      "execution_count": 7,
      "outputs": [
        {
          "output_type": "execute_result",
          "data": {
            "text/plain": [
              "    id keyword location  \\\n",
              "0   1   NaN               \n",
              "1   4   NaN               \n",
              "2   5   NaN               \n",
              "3   6   NaN               \n",
              "4   7   NaN               \n",
              "5   8   NaN               \n",
              "6   10  NaN               \n",
              "7   13  NaN               \n",
              "8   14  NaN               \n",
              "9   15  NaN               \n",
              "10  16  NaN               \n",
              "11  17  NaN               \n",
              "12  18  NaN               \n",
              "13  19  NaN               \n",
              "14  20  NaN               \n",
              "15  23  NaN               \n",
              "16  24  NaN               \n",
              "17  25  NaN               \n",
              "18  26  NaN               \n",
              "19  28  NaN               \n",
              "\n",
              "                                                                                                                                     text  \\\n",
              "0   Our Deeds are the Reason of this #earthquake May ALLAH Forgive us all                                                                   \n",
              "1   Forest fire near La Ronge Sask. Canada                                                                                                  \n",
              "2   All residents asked to 'shelter in place' are being notified by officers. No other evacuation or shelter in place orders are expected   \n",
              "3   13,000 people receive #wildfires evacuation orders in California                                                                        \n",
              "4   Just got sent this photo from Ruby #Alaska as smoke from #wildfires pours into a school                                                 \n",
              "5   #RockyFire Update => California Hwy. 20 closed in both directions due to Lake County fire - #CAfire #wildfires                          \n",
              "6   #flood #disaster Heavy rain causes flash flooding of streets in Manitou, Colorado Springs areas                                         \n",
              "7   I'm on top of the hill and I can see a fire in the woods...                                                                             \n",
              "8   There's an emergency evacuation happening now in the building across the street                                                         \n",
              "9   I'm afraid that the tornado is coming to our area...                                                                                    \n",
              "10  Three people died from the heat wave so far                                                                                             \n",
              "11  Haha South Tampa is getting flooded hah- WAIT A SECOND I LIVE IN SOUTH TAMPA WHAT AM I GONNA DO WHAT AM I GONNA DO FVCK #flooding       \n",
              "12  #raining #flooding #Florida #TampaBay #Tampa 18 or 19 days. I've lost count                                                             \n",
              "13  #Flood in Bago Myanmar #We arrived Bago                                                                                                 \n",
              "14  Damage to school bus on 80 in multi car crash #BREAKING                                                                                 \n",
              "15  What's up man?                                                                                                                          \n",
              "16  I love fruits                                                                                                                           \n",
              "17  Summer is lovely                                                                                                                        \n",
              "18  My car is so fast                                                                                                                       \n",
              "19  What a goooooooaaaaaal!!!!!!                                                                                                            \n",
              "\n",
              "    target  \\\n",
              "0   1        \n",
              "1   1        \n",
              "2   1        \n",
              "3   1        \n",
              "4   1        \n",
              "5   1        \n",
              "6   1        \n",
              "7   1        \n",
              "8   1        \n",
              "9   1        \n",
              "10  1        \n",
              "11  1        \n",
              "12  1        \n",
              "13  1        \n",
              "14  1        \n",
              "15  0        \n",
              "16  0        \n",
              "17  0        \n",
              "18  0        \n",
              "19  0        \n",
              "\n",
              "                                                                                                                              text_location  \\\n",
              "0   Our Deeds are the Reason of this #earthquake May ALLAH Forgive us all                                                                     \n",
              "1   Forest fire near La Ronge Sask. Canada                                                                                                    \n",
              "2   All residents asked to 'shelter in place' are being notified by officers. No other evacuation or shelter in place orders are expected     \n",
              "3   13,000 people receive #wildfires evacuation orders in California                                                                          \n",
              "4   Just got sent this photo from Ruby #Alaska as smoke from #wildfires pours into a school                                                   \n",
              "5   #RockyFire Update => California Hwy. 20 closed in both directions due to Lake County fire - #CAfire #wildfires                            \n",
              "6   #flood #disaster Heavy rain causes flash flooding of streets in Manitou, Colorado Springs areas                                           \n",
              "7   I'm on top of the hill and I can see a fire in the woods...                                                                               \n",
              "8   There's an emergency evacuation happening now in the building across the street                                                           \n",
              "9   I'm afraid that the tornado is coming to our area...                                                                                      \n",
              "10  Three people died from the heat wave so far                                                                                               \n",
              "11  Haha South Tampa is getting flooded hah- WAIT A SECOND I LIVE IN SOUTH TAMPA WHAT AM I GONNA DO WHAT AM I GONNA DO FVCK #flooding         \n",
              "12  #raining #flooding #Florida #TampaBay #Tampa 18 or 19 days. I've lost count                                                               \n",
              "13  #Flood in Bago Myanmar #We arrived Bago                                                                                                   \n",
              "14  Damage to school bus on 80 in multi car crash #BREAKING                                                                                   \n",
              "15  What's up man?                                                                                                                            \n",
              "16  I love fruits                                                                                                                             \n",
              "17  Summer is lovely                                                                                                                          \n",
              "18  My car is so fast                                                                                                                         \n",
              "19  What a goooooooaaaaaal!!!!!!                                                                                                              \n",
              "\n",
              "                                                                                        text_clean  \\\n",
              "0   deed reason   earthquake allah forgive                                                           \n",
              "1   forest fire near la ronge sask   canada                                                          \n",
              "2   resident ask   shelter place   notify officer   evacuation shelter place order expect            \n",
              "3   13 000 people receive   wildfire evacuation order california                                     \n",
              "4   got send photo ruby   alaska smoke   wildfire pour school                                        \n",
              "5   rockyfire update    california hwy   20 close direction lake county fire     cafire   wildfire   \n",
              "6   flood   disaster heavy rain cause flash flooding street manitou   colorado spring area           \n",
              "7   hill fire wood                                                                                   \n",
              "8   emergency evacuation happen building street                                                      \n",
              "9   afraid tornado come area                                                                         \n",
              "10  people die heat wave far                                                                         \n",
              "11  haha south tampa getting flood hah   wait second live south tampa fvck   flooding                \n",
              "12  rain   flooding   florida   tampabay   tampa 18 19 day   lose count                              \n",
              "13  flood bago myanmar   arrive bago                                                                 \n",
              "14  damage school bus 80 multi car crash   breaking                                                  \n",
              "15  man                                                                                              \n",
              "16  love fruit                                                                                       \n",
              "17  summer lovely                                                                                    \n",
              "18  car fast                                                                                         \n",
              "19  goooooooaaaaaal                                                                                  \n",
              "\n",
              "                                                         text_encoded  \n",
              "0   [4060, 468, 218, 1456, 2257]                                       \n",
              "1   [148, 3, 150, 322, 6010, 4061, 64]                                 \n",
              "2   [1352, 509, 1749, 344, 6011, 358, 224, 1749, 344, 323, 449]        \n",
              "3   [664, 2258, 8, 2654, 100, 224, 323, 7]                             \n",
              "4   [309, 219, 146, 6012, 1263, 225, 100, 2655, 124]                   \n",
              "5   [2656, 199, 7, 1353, 574, 398, 1004, 598, 168, 3, 4062, 100]       \n",
              "6   [34, 16, 729, 184, 57, 730, 485, 374, 6013, 244, 644, 112]         \n",
              "7   [698, 3, 1457]                                                     \n",
              "8   [20, 224, 206, 37, 374]                                            \n",
              "9   [2259, 324, 17, 112]                                               \n",
              "10  [8, 94, 249, 113, 450]                                             \n",
              "11  [764, 83, 1116, 900, 34, 3198, 345, 399, 74, 83, 1116, 6014, 485]  \n",
              "12  [184, 485, 250, 6015, 1116, 451, 1005, 29, 274, 4063]              \n",
              "13  [34, 4064, 802, 803, 4064]                                         \n",
              "14  [125, 124, 251, 1458, 2657, 51, 15, 3199]                          \n",
              "15  [28]                                                               \n",
              "16  [33, 1459]                                                         \n",
              "17  [295, 1598]                                                        \n",
              "18  [51, 575]                                                          \n",
              "19  [6016]                                                             "
            ],
            "text/html": [
              "\n",
              "  <div id=\"df-d03c28e7-6ecc-4d09-b861-1adbcf191302\">\n",
              "    <div class=\"colab-df-container\">\n",
              "      <div>\n",
              "<style scoped>\n",
              "    .dataframe tbody tr th:only-of-type {\n",
              "        vertical-align: middle;\n",
              "    }\n",
              "\n",
              "    .dataframe tbody tr th {\n",
              "        vertical-align: top;\n",
              "    }\n",
              "\n",
              "    .dataframe thead th {\n",
              "        text-align: right;\n",
              "    }\n",
              "</style>\n",
              "<table border=\"1\" class=\"dataframe\">\n",
              "  <thead>\n",
              "    <tr style=\"text-align: right;\">\n",
              "      <th></th>\n",
              "      <th>id</th>\n",
              "      <th>keyword</th>\n",
              "      <th>location</th>\n",
              "      <th>text</th>\n",
              "      <th>target</th>\n",
              "      <th>text_location</th>\n",
              "      <th>text_clean</th>\n",
              "      <th>text_encoded</th>\n",
              "    </tr>\n",
              "  </thead>\n",
              "  <tbody>\n",
              "    <tr>\n",
              "      <th>0</th>\n",
              "      <td>1</td>\n",
              "      <td>NaN</td>\n",
              "      <td></td>\n",
              "      <td>Our Deeds are the Reason of this #earthquake May ALLAH Forgive us all</td>\n",
              "      <td>1</td>\n",
              "      <td>Our Deeds are the Reason of this #earthquake May ALLAH Forgive us all</td>\n",
              "      <td>deed reason   earthquake allah forgive</td>\n",
              "      <td>[4060, 468, 218, 1456, 2257]</td>\n",
              "    </tr>\n",
              "    <tr>\n",
              "      <th>1</th>\n",
              "      <td>4</td>\n",
              "      <td>NaN</td>\n",
              "      <td></td>\n",
              "      <td>Forest fire near La Ronge Sask. Canada</td>\n",
              "      <td>1</td>\n",
              "      <td>Forest fire near La Ronge Sask. Canada</td>\n",
              "      <td>forest fire near la ronge sask   canada</td>\n",
              "      <td>[148, 3, 150, 322, 6010, 4061, 64]</td>\n",
              "    </tr>\n",
              "    <tr>\n",
              "      <th>2</th>\n",
              "      <td>5</td>\n",
              "      <td>NaN</td>\n",
              "      <td></td>\n",
              "      <td>All residents asked to 'shelter in place' are being notified by officers. No other evacuation or shelter in place orders are expected</td>\n",
              "      <td>1</td>\n",
              "      <td>All residents asked to 'shelter in place' are being notified by officers. No other evacuation or shelter in place orders are expected</td>\n",
              "      <td>resident ask   shelter place   notify officer   evacuation shelter place order expect</td>\n",
              "      <td>[1352, 509, 1749, 344, 6011, 358, 224, 1749, 344, 323, 449]</td>\n",
              "    </tr>\n",
              "    <tr>\n",
              "      <th>3</th>\n",
              "      <td>6</td>\n",
              "      <td>NaN</td>\n",
              "      <td></td>\n",
              "      <td>13,000 people receive #wildfires evacuation orders in California</td>\n",
              "      <td>1</td>\n",
              "      <td>13,000 people receive #wildfires evacuation orders in California</td>\n",
              "      <td>13 000 people receive   wildfire evacuation order california</td>\n",
              "      <td>[664, 2258, 8, 2654, 100, 224, 323, 7]</td>\n",
              "    </tr>\n",
              "    <tr>\n",
              "      <th>4</th>\n",
              "      <td>7</td>\n",
              "      <td>NaN</td>\n",
              "      <td></td>\n",
              "      <td>Just got sent this photo from Ruby #Alaska as smoke from #wildfires pours into a school</td>\n",
              "      <td>1</td>\n",
              "      <td>Just got sent this photo from Ruby #Alaska as smoke from #wildfires pours into a school</td>\n",
              "      <td>got send photo ruby   alaska smoke   wildfire pour school</td>\n",
              "      <td>[309, 219, 146, 6012, 1263, 225, 100, 2655, 124]</td>\n",
              "    </tr>\n",
              "    <tr>\n",
              "      <th>5</th>\n",
              "      <td>8</td>\n",
              "      <td>NaN</td>\n",
              "      <td></td>\n",
              "      <td>#RockyFire Update =&gt; California Hwy. 20 closed in both directions due to Lake County fire - #CAfire #wildfires</td>\n",
              "      <td>1</td>\n",
              "      <td>#RockyFire Update =&gt; California Hwy. 20 closed in both directions due to Lake County fire - #CAfire #wildfires</td>\n",
              "      <td>rockyfire update    california hwy   20 close direction lake county fire     cafire   wildfire</td>\n",
              "      <td>[2656, 199, 7, 1353, 574, 398, 1004, 598, 168, 3, 4062, 100]</td>\n",
              "    </tr>\n",
              "    <tr>\n",
              "      <th>6</th>\n",
              "      <td>10</td>\n",
              "      <td>NaN</td>\n",
              "      <td></td>\n",
              "      <td>#flood #disaster Heavy rain causes flash flooding of streets in Manitou, Colorado Springs areas</td>\n",
              "      <td>1</td>\n",
              "      <td>#flood #disaster Heavy rain causes flash flooding of streets in Manitou, Colorado Springs areas</td>\n",
              "      <td>flood   disaster heavy rain cause flash flooding street manitou   colorado spring area</td>\n",
              "      <td>[34, 16, 729, 184, 57, 730, 485, 374, 6013, 244, 644, 112]</td>\n",
              "    </tr>\n",
              "    <tr>\n",
              "      <th>7</th>\n",
              "      <td>13</td>\n",
              "      <td>NaN</td>\n",
              "      <td></td>\n",
              "      <td>I'm on top of the hill and I can see a fire in the woods...</td>\n",
              "      <td>1</td>\n",
              "      <td>I'm on top of the hill and I can see a fire in the woods...</td>\n",
              "      <td>hill fire wood</td>\n",
              "      <td>[698, 3, 1457]</td>\n",
              "    </tr>\n",
              "    <tr>\n",
              "      <th>8</th>\n",
              "      <td>14</td>\n",
              "      <td>NaN</td>\n",
              "      <td></td>\n",
              "      <td>There's an emergency evacuation happening now in the building across the street</td>\n",
              "      <td>1</td>\n",
              "      <td>There's an emergency evacuation happening now in the building across the street</td>\n",
              "      <td>emergency evacuation happen building street</td>\n",
              "      <td>[20, 224, 206, 37, 374]</td>\n",
              "    </tr>\n",
              "    <tr>\n",
              "      <th>9</th>\n",
              "      <td>15</td>\n",
              "      <td>NaN</td>\n",
              "      <td></td>\n",
              "      <td>I'm afraid that the tornado is coming to our area...</td>\n",
              "      <td>1</td>\n",
              "      <td>I'm afraid that the tornado is coming to our area...</td>\n",
              "      <td>afraid tornado come area</td>\n",
              "      <td>[2259, 324, 17, 112]</td>\n",
              "    </tr>\n",
              "    <tr>\n",
              "      <th>10</th>\n",
              "      <td>16</td>\n",
              "      <td>NaN</td>\n",
              "      <td></td>\n",
              "      <td>Three people died from the heat wave so far</td>\n",
              "      <td>1</td>\n",
              "      <td>Three people died from the heat wave so far</td>\n",
              "      <td>people die heat wave far</td>\n",
              "      <td>[8, 94, 249, 113, 450]</td>\n",
              "    </tr>\n",
              "    <tr>\n",
              "      <th>11</th>\n",
              "      <td>17</td>\n",
              "      <td>NaN</td>\n",
              "      <td></td>\n",
              "      <td>Haha South Tampa is getting flooded hah- WAIT A SECOND I LIVE IN SOUTH TAMPA WHAT AM I GONNA DO WHAT AM I GONNA DO FVCK #flooding</td>\n",
              "      <td>1</td>\n",
              "      <td>Haha South Tampa is getting flooded hah- WAIT A SECOND I LIVE IN SOUTH TAMPA WHAT AM I GONNA DO WHAT AM I GONNA DO FVCK #flooding</td>\n",
              "      <td>haha south tampa getting flood hah   wait second live south tampa fvck   flooding</td>\n",
              "      <td>[764, 83, 1116, 900, 34, 3198, 345, 399, 74, 83, 1116, 6014, 485]</td>\n",
              "    </tr>\n",
              "    <tr>\n",
              "      <th>12</th>\n",
              "      <td>18</td>\n",
              "      <td>NaN</td>\n",
              "      <td></td>\n",
              "      <td>#raining #flooding #Florida #TampaBay #Tampa 18 or 19 days. I've lost count</td>\n",
              "      <td>1</td>\n",
              "      <td>#raining #flooding #Florida #TampaBay #Tampa 18 or 19 days. I've lost count</td>\n",
              "      <td>rain   flooding   florida   tampabay   tampa 18 19 day   lose count</td>\n",
              "      <td>[184, 485, 250, 6015, 1116, 451, 1005, 29, 274, 4063]</td>\n",
              "    </tr>\n",
              "    <tr>\n",
              "      <th>13</th>\n",
              "      <td>19</td>\n",
              "      <td>NaN</td>\n",
              "      <td></td>\n",
              "      <td>#Flood in Bago Myanmar #We arrived Bago</td>\n",
              "      <td>1</td>\n",
              "      <td>#Flood in Bago Myanmar #We arrived Bago</td>\n",
              "      <td>flood bago myanmar   arrive bago</td>\n",
              "      <td>[34, 4064, 802, 803, 4064]</td>\n",
              "    </tr>\n",
              "    <tr>\n",
              "      <th>14</th>\n",
              "      <td>20</td>\n",
              "      <td>NaN</td>\n",
              "      <td></td>\n",
              "      <td>Damage to school bus on 80 in multi car crash #BREAKING</td>\n",
              "      <td>1</td>\n",
              "      <td>Damage to school bus on 80 in multi car crash #BREAKING</td>\n",
              "      <td>damage school bus 80 multi car crash   breaking</td>\n",
              "      <td>[125, 124, 251, 1458, 2657, 51, 15, 3199]</td>\n",
              "    </tr>\n",
              "    <tr>\n",
              "      <th>15</th>\n",
              "      <td>23</td>\n",
              "      <td>NaN</td>\n",
              "      <td></td>\n",
              "      <td>What's up man?</td>\n",
              "      <td>0</td>\n",
              "      <td>What's up man?</td>\n",
              "      <td>man</td>\n",
              "      <td>[28]</td>\n",
              "    </tr>\n",
              "    <tr>\n",
              "      <th>16</th>\n",
              "      <td>24</td>\n",
              "      <td>NaN</td>\n",
              "      <td></td>\n",
              "      <td>I love fruits</td>\n",
              "      <td>0</td>\n",
              "      <td>I love fruits</td>\n",
              "      <td>love fruit</td>\n",
              "      <td>[33, 1459]</td>\n",
              "    </tr>\n",
              "    <tr>\n",
              "      <th>17</th>\n",
              "      <td>25</td>\n",
              "      <td>NaN</td>\n",
              "      <td></td>\n",
              "      <td>Summer is lovely</td>\n",
              "      <td>0</td>\n",
              "      <td>Summer is lovely</td>\n",
              "      <td>summer lovely</td>\n",
              "      <td>[295, 1598]</td>\n",
              "    </tr>\n",
              "    <tr>\n",
              "      <th>18</th>\n",
              "      <td>26</td>\n",
              "      <td>NaN</td>\n",
              "      <td></td>\n",
              "      <td>My car is so fast</td>\n",
              "      <td>0</td>\n",
              "      <td>My car is so fast</td>\n",
              "      <td>car fast</td>\n",
              "      <td>[51, 575]</td>\n",
              "    </tr>\n",
              "    <tr>\n",
              "      <th>19</th>\n",
              "      <td>28</td>\n",
              "      <td>NaN</td>\n",
              "      <td></td>\n",
              "      <td>What a goooooooaaaaaal!!!!!!</td>\n",
              "      <td>0</td>\n",
              "      <td>What a goooooooaaaaaal!!!!!!</td>\n",
              "      <td>goooooooaaaaaal</td>\n",
              "      <td>[6016]</td>\n",
              "    </tr>\n",
              "  </tbody>\n",
              "</table>\n",
              "</div>\n",
              "      <button class=\"colab-df-convert\" onclick=\"convertToInteractive('df-d03c28e7-6ecc-4d09-b861-1adbcf191302')\"\n",
              "              title=\"Convert this dataframe to an interactive table.\"\n",
              "              style=\"display:none;\">\n",
              "        \n",
              "  <svg xmlns=\"http://www.w3.org/2000/svg\" height=\"24px\"viewBox=\"0 0 24 24\"\n",
              "       width=\"24px\">\n",
              "    <path d=\"M0 0h24v24H0V0z\" fill=\"none\"/>\n",
              "    <path d=\"M18.56 5.44l.94 2.06.94-2.06 2.06-.94-2.06-.94-.94-2.06-.94 2.06-2.06.94zm-11 1L8.5 8.5l.94-2.06 2.06-.94-2.06-.94L8.5 2.5l-.94 2.06-2.06.94zm10 10l.94 2.06.94-2.06 2.06-.94-2.06-.94-.94-2.06-.94 2.06-2.06.94z\"/><path d=\"M17.41 7.96l-1.37-1.37c-.4-.4-.92-.59-1.43-.59-.52 0-1.04.2-1.43.59L10.3 9.45l-7.72 7.72c-.78.78-.78 2.05 0 2.83L4 21.41c.39.39.9.59 1.41.59.51 0 1.02-.2 1.41-.59l7.78-7.78 2.81-2.81c.8-.78.8-2.07 0-2.86zM5.41 20L4 18.59l7.72-7.72 1.47 1.35L5.41 20z\"/>\n",
              "  </svg>\n",
              "      </button>\n",
              "      \n",
              "  <style>\n",
              "    .colab-df-container {\n",
              "      display:flex;\n",
              "      flex-wrap:wrap;\n",
              "      gap: 12px;\n",
              "    }\n",
              "\n",
              "    .colab-df-convert {\n",
              "      background-color: #E8F0FE;\n",
              "      border: none;\n",
              "      border-radius: 50%;\n",
              "      cursor: pointer;\n",
              "      display: none;\n",
              "      fill: #1967D2;\n",
              "      height: 32px;\n",
              "      padding: 0 0 0 0;\n",
              "      width: 32px;\n",
              "    }\n",
              "\n",
              "    .colab-df-convert:hover {\n",
              "      background-color: #E2EBFA;\n",
              "      box-shadow: 0px 1px 2px rgba(60, 64, 67, 0.3), 0px 1px 3px 1px rgba(60, 64, 67, 0.15);\n",
              "      fill: #174EA6;\n",
              "    }\n",
              "\n",
              "    [theme=dark] .colab-df-convert {\n",
              "      background-color: #3B4455;\n",
              "      fill: #D2E3FC;\n",
              "    }\n",
              "\n",
              "    [theme=dark] .colab-df-convert:hover {\n",
              "      background-color: #434B5C;\n",
              "      box-shadow: 0px 1px 3px 1px rgba(0, 0, 0, 0.15);\n",
              "      filter: drop-shadow(0px 1px 2px rgba(0, 0, 0, 0.3));\n",
              "      fill: #FFFFFF;\n",
              "    }\n",
              "  </style>\n",
              "\n",
              "      <script>\n",
              "        const buttonEl =\n",
              "          document.querySelector('#df-d03c28e7-6ecc-4d09-b861-1adbcf191302 button.colab-df-convert');\n",
              "        buttonEl.style.display =\n",
              "          google.colab.kernel.accessAllowed ? 'block' : 'none';\n",
              "\n",
              "        async function convertToInteractive(key) {\n",
              "          const element = document.querySelector('#df-d03c28e7-6ecc-4d09-b861-1adbcf191302');\n",
              "          const dataTable =\n",
              "            await google.colab.kernel.invokeFunction('convertToInteractive',\n",
              "                                                     [key], {});\n",
              "          if (!dataTable) return;\n",
              "\n",
              "          const docLinkHtml = 'Like what you see? Visit the ' +\n",
              "            '<a target=\"_blank\" href=https://colab.research.google.com/notebooks/data_table.ipynb>data table notebook</a>'\n",
              "            + ' to learn more about interactive tables.';\n",
              "          element.innerHTML = '';\n",
              "          dataTable['output_type'] = 'display_data';\n",
              "          await google.colab.output.renderOutput(dataTable, element);\n",
              "          const docLink = document.createElement('div');\n",
              "          docLink.innerHTML = docLinkHtml;\n",
              "          element.appendChild(docLink);\n",
              "        }\n",
              "      </script>\n",
              "    </div>\n",
              "  </div>\n",
              "  "
            ]
          },
          "metadata": {},
          "execution_count": 7
        }
      ]
    },
    {
      "cell_type": "code",
      "source": [
        "text_pad = tf.keras.preprocessing.sequence.pad_sequences(tweets.text_encoded, padding=\"post\")"
      ],
      "metadata": {
        "execution": {
          "iopub.status.busy": "2022-07-03T11:18:25.077052Z",
          "iopub.execute_input": "2022-07-03T11:18:25.077927Z",
          "iopub.status.idle": "2022-07-03T11:18:25.122719Z",
          "shell.execute_reply.started": "2022-07-03T11:18:25.077890Z",
          "shell.execute_reply": "2022-07-03T11:18:25.122016Z"
        },
        "trusted": true,
        "id": "yZ0ofy6gXAYI"
      },
      "execution_count": 8,
      "outputs": []
    },
    {
      "cell_type": "code",
      "source": [
        "# verify if the dataset is balanced\n",
        "tweets.target.value_counts(normalize=True)"
      ],
      "metadata": {
        "colab": {
          "base_uri": "https://localhost:8080/"
        },
        "id": "wlFn9WJWld5T",
        "outputId": "37fed6f2-0d14-4a86-90bb-df70984b01c3"
      },
      "execution_count": 47,
      "outputs": [
        {
          "output_type": "execute_result",
          "data": {
            "text/plain": [
              "0    0.57034\n",
              "1    0.42966\n",
              "Name: target, dtype: float64"
            ]
          },
          "metadata": {},
          "execution_count": 47
        }
      ]
    },
    {
      "cell_type": "code",
      "source": [
        "from sklearn.model_selection import train_test_split\n",
        "# Train Test Split\n",
        "X_train, X_val, y_train, y_val = train_test_split(text_pad, tweets.target, test_size=0.1)\n",
        "\n",
        "train = tf.data.Dataset.from_tensor_slices((X_train, y_train))\n",
        "val = tf.data.Dataset.from_tensor_slices((X_val, y_val))\n",
        "\n",
        "train_batch = train.shuffle(len(train)).batch(64)\n",
        "val_batch = val.shuffle(len(val)).batch(64)"
      ],
      "metadata": {
        "execution": {
          "iopub.status.busy": "2022-07-03T11:19:37.968105Z",
          "iopub.execute_input": "2022-07-03T11:19:37.968416Z",
          "iopub.status.idle": "2022-07-03T11:19:38.159753Z",
          "shell.execute_reply.started": "2022-07-03T11:19:37.968382Z",
          "shell.execute_reply": "2022-07-03T11:19:38.159136Z"
        },
        "trusted": true,
        "id": "OZS1xlmRXAYJ"
      },
      "execution_count": 10,
      "outputs": []
    },
    {
      "cell_type": "markdown",
      "source": [
        "### Model 1: dense sequential network"
      ],
      "metadata": {
        "id": "9RU9IleOXAYK"
      }
    },
    {
      "cell_type": "code",
      "source": [
        "embedding_dim=32 \n",
        "\n",
        "vocab_size = len(tokenizer.word_index)\n",
        "\n",
        "model = Sequential([\n",
        "  Embedding(vocab_size+1, embedding_dim, name=\"embedding\"),\n",
        "  GlobalAveragePooling1D(),\n",
        "  Dense(128, activation='relu'),\n",
        "  Dropout(0.5),\n",
        "  Dense(64, activation='relu'),\n",
        "  Dropout(0.5),\n",
        "  Dense(32, activation='relu'),\n",
        "  Dropout(0.5),\n",
        "  Dense(1, activation=\"sigmoid\") \n",
        "])\n",
        "\n",
        "model.summary()"
      ],
      "metadata": {
        "execution": {
          "iopub.status.busy": "2022-07-03T11:22:24.955904Z",
          "iopub.execute_input": "2022-07-03T11:22:24.956254Z",
          "iopub.status.idle": "2022-07-03T11:22:25.025800Z",
          "shell.execute_reply.started": "2022-07-03T11:22:24.956213Z",
          "shell.execute_reply": "2022-07-03T11:22:25.024703Z"
        },
        "trusted": true,
        "id": "0C_b4HbxXAYM",
        "colab": {
          "base_uri": "https://localhost:8080/"
        },
        "outputId": "f8f3e0b1-5e64-434c-dc8f-01a714819482"
      },
      "execution_count": 48,
      "outputs": [
        {
          "output_type": "stream",
          "name": "stdout",
          "text": [
            "Model: \"sequential_7\"\n",
            "_________________________________________________________________\n",
            " Layer (type)                Output Shape              Param #   \n",
            "=================================================================\n",
            " embedding (Embedding)       (None, None, 32)          452160    \n",
            "                                                                 \n",
            " global_average_pooling1d_6   (None, 32)               0         \n",
            " (GlobalAveragePooling1D)                                        \n",
            "                                                                 \n",
            " dense_24 (Dense)            (None, 128)               4224      \n",
            "                                                                 \n",
            " dropout_17 (Dropout)        (None, 128)               0         \n",
            "                                                                 \n",
            " dense_25 (Dense)            (None, 64)                8256      \n",
            "                                                                 \n",
            " dropout_18 (Dropout)        (None, 64)                0         \n",
            "                                                                 \n",
            " dense_26 (Dense)            (None, 32)                2080      \n",
            "                                                                 \n",
            " dropout_19 (Dropout)        (None, 32)                0         \n",
            "                                                                 \n",
            " dense_27 (Dense)            (None, 1)                 33        \n",
            "                                                                 \n",
            "=================================================================\n",
            "Total params: 466,753\n",
            "Trainable params: 466,753\n",
            "Non-trainable params: 0\n",
            "_________________________________________________________________\n"
          ]
        }
      ]
    },
    {
      "cell_type": "code",
      "source": [
        "f1 = tfa.metrics.F1Score(num_classes=1, threshold=0.5)\n",
        "model.compile(optimizer='adam',\n",
        "              loss=tf.keras.losses.BinaryCrossentropy(),\n",
        "              metrics=[f1])"
      ],
      "metadata": {
        "execution": {
          "iopub.status.busy": "2022-07-03T11:22:57.088216Z",
          "iopub.execute_input": "2022-07-03T11:22:57.088499Z",
          "iopub.status.idle": "2022-07-03T11:22:57.105394Z",
          "shell.execute_reply.started": "2022-07-03T11:22:57.088470Z",
          "shell.execute_reply": "2022-07-03T11:22:57.104758Z"
        },
        "trusted": true,
        "id": "bDPUDDPDXAYM"
      },
      "execution_count": 49,
      "outputs": []
    },
    {
      "cell_type": "code",
      "source": [
        "model.fit(\n",
        "    train_batch,\n",
        "    validation_data=val_batch,\n",
        "    epochs=10)"
      ],
      "metadata": {
        "execution": {
          "iopub.status.busy": "2022-07-03T11:23:02.701770Z",
          "iopub.execute_input": "2022-07-03T11:23:02.702062Z",
          "iopub.status.idle": "2022-07-03T11:23:13.609084Z",
          "shell.execute_reply.started": "2022-07-03T11:23:02.702016Z",
          "shell.execute_reply": "2022-07-03T11:23:13.608181Z"
        },
        "trusted": true,
        "id": "qkKHg7AKXAYN",
        "colab": {
          "base_uri": "https://localhost:8080/"
        },
        "outputId": "79661f8a-7a78-483e-eedc-b9cde424847f"
      },
      "execution_count": 50,
      "outputs": [
        {
          "output_type": "stream",
          "name": "stdout",
          "text": [
            "Epoch 1/10\n",
            "108/108 [==============================] - 2s 9ms/step - loss: 0.6770 - f1_score: 0.0081 - val_loss: 0.6636 - val_f1_score: 0.0000e+00\n",
            "Epoch 2/10\n",
            "108/108 [==============================] - 1s 8ms/step - loss: 0.5569 - f1_score: 0.5762 - val_loss: 0.5058 - val_f1_score: 0.7545\n",
            "Epoch 3/10\n",
            "108/108 [==============================] - 1s 8ms/step - loss: 0.3390 - f1_score: 0.8500 - val_loss: 0.5419 - val_f1_score: 0.7409\n",
            "Epoch 4/10\n",
            "108/108 [==============================] - 1s 8ms/step - loss: 0.2199 - f1_score: 0.9152 - val_loss: 0.6473 - val_f1_score: 0.7417\n",
            "Epoch 5/10\n",
            "108/108 [==============================] - 1s 8ms/step - loss: 0.1581 - f1_score: 0.9397 - val_loss: 0.7335 - val_f1_score: 0.7400\n",
            "Epoch 6/10\n",
            "108/108 [==============================] - 1s 8ms/step - loss: 0.1308 - f1_score: 0.9543 - val_loss: 0.8153 - val_f1_score: 0.7273\n",
            "Epoch 7/10\n",
            "108/108 [==============================] - 1s 8ms/step - loss: 0.1026 - f1_score: 0.9650 - val_loss: 0.9081 - val_f1_score: 0.7359\n",
            "Epoch 8/10\n",
            "108/108 [==============================] - 1s 8ms/step - loss: 0.0814 - f1_score: 0.9727 - val_loss: 1.0021 - val_f1_score: 0.7230\n",
            "Epoch 9/10\n",
            "108/108 [==============================] - 1s 8ms/step - loss: 0.0775 - f1_score: 0.9749 - val_loss: 1.1046 - val_f1_score: 0.7240\n",
            "Epoch 10/10\n",
            "108/108 [==============================] - 1s 8ms/step - loss: 0.0815 - f1_score: 0.9700 - val_loss: 1.0417 - val_f1_score: 0.7228\n"
          ]
        },
        {
          "output_type": "execute_result",
          "data": {
            "text/plain": [
              "<keras.callbacks.History at 0x7fa1d98f1a10>"
            ]
          },
          "metadata": {},
          "execution_count": 50
        }
      ]
    },
    {
      "cell_type": "code",
      "source": [
        "plt.plot(model.history.history[\"loss\"], c=\"r\", label=\"train_loss\")\n",
        "plt.plot(model.history.history[\"val_loss\"], c=\"b\", label=\"val_loss\")\n",
        "plt.legend(loc=\"upper left\")\n",
        "plt.show()"
      ],
      "metadata": {
        "execution": {
          "iopub.status.busy": "2022-07-03T11:23:19.457292Z",
          "iopub.execute_input": "2022-07-03T11:23:19.458113Z",
          "iopub.status.idle": "2022-07-03T11:23:19.653990Z",
          "shell.execute_reply.started": "2022-07-03T11:23:19.458076Z",
          "shell.execute_reply": "2022-07-03T11:23:19.653278Z"
        },
        "trusted": true,
        "id": "5oT_q3mIXAYO",
        "colab": {
          "base_uri": "https://localhost:8080/",
          "height": 265
        },
        "outputId": "ad376763-80a6-430b-f144-db690e83c393"
      },
      "execution_count": 51,
      "outputs": [
        {
          "output_type": "display_data",
          "data": {
            "text/plain": [
              "<Figure size 432x288 with 1 Axes>"
            ],
            "image/png": "[encoded data removed]"
          },
          "metadata": {
            "needs_background": "light"
          }
        }
      ]
    },
    {
      "cell_type": "code",
      "source": [
        "plt.plot(model.history.history[\"f1_score\"], c=\"r\", label=\"train_F_score\")\n",
        "plt.plot(model.history.history[\"val_f1_score\"], c=\"b\", label=\"val_F_score\")\n",
        "plt.legend(loc=\"upper left\")\n",
        "plt.show()"
      ],
      "metadata": {
        "execution": {
          "iopub.status.busy": "2022-07-03T11:23:48.338309Z",
          "iopub.execute_input": "2022-07-03T11:23:48.339193Z",
          "iopub.status.idle": "2022-07-03T11:23:48.526799Z",
          "shell.execute_reply.started": "2022-07-03T11:23:48.339143Z",
          "shell.execute_reply": "2022-07-03T11:23:48.525996Z"
        },
        "trusted": true,
        "id": "LvYMAB3GXAYO",
        "colab": {
          "base_uri": "https://localhost:8080/",
          "height": 265
        },
        "outputId": "faa21f67-6e26-4023-8ce8-cafbcf34ef0e"
      },
      "execution_count": 52,
      "outputs": [
        {
          "output_type": "display_data",
          "data": {
            "text/plain": [
              "<Figure size 432x288 with 1 Axes>"
            ],
            "image/png": "[encoded data removed]"
          },
          "metadata": {
            "needs_background": "light"
          }
        }
      ]
    },
    {
      "cell_type": "markdown",
      "source": [
        "**The model rapidly overfits. F1-score ~0.73**"
      ],
      "metadata": {
        "id": "8hBXmB4_mKrc"
      }
    },
    {
      "cell_type": "markdown",
      "source": [
        "## Model 2: Simple Recursive Neural Network with dense layers and dropout layers to reduce overfitting"
      ],
      "metadata": {
        "id": "sESJRbDFmfFq"
      }
    },
    {
      "cell_type": "code",
      "source": [
        "embedding_dim = 64  \n",
        "vocab_size = len(tokenizer.word_index)\n",
        "\n",
        "model_2 = Sequential([\n",
        "  Embedding(vocab_size+1, embedding_dim,input_length = text_pad.shape[1], name=\"embedding\"), \n",
        "  SimpleRNN(units=32, return_sequences=False, return_state=False),\n",
        "  Dense(32, activation='relu'),\n",
        "  Dropout(0.5),\n",
        "  Dense(16, activation='relu'),\n",
        "  Dropout(0.5),\n",
        "  Dense(8, activation='relu'),\n",
        "  Dropout(0.5),\n",
        "  Dense(1, activation=\"sigmoid\")\n",
        "])"
      ],
      "metadata": {
        "execution": {
          "iopub.status.busy": "2022-07-03T12:04:52.792210Z",
          "iopub.execute_input": "2022-07-03T12:04:52.792520Z",
          "iopub.status.idle": "2022-07-03T12:04:52.897688Z",
          "shell.execute_reply.started": "2022-07-03T12:04:52.792485Z",
          "shell.execute_reply": "2022-07-03T12:04:52.897062Z"
        },
        "trusted": true,
        "id": "o-13nmsrXAYO"
      },
      "execution_count": 53,
      "outputs": []
    },
    {
      "cell_type": "code",
      "source": [
        "f1 = tfa.metrics.F1Score(num_classes=1, threshold=0.5)\n",
        "\n",
        "model_2.compile(optimizer='adam',\n",
        "              loss=tf.keras.losses.BinaryCrossentropy(),\n",
        "              metrics=[f1])"
      ],
      "metadata": {
        "execution": {
          "iopub.status.busy": "2022-07-03T12:03:17.826792Z",
          "iopub.execute_input": "2022-07-03T12:03:17.827051Z",
          "iopub.status.idle": "2022-07-03T12:03:17.842638Z",
          "shell.execute_reply.started": "2022-07-03T12:03:17.827024Z",
          "shell.execute_reply": "2022-07-03T12:03:17.842012Z"
        },
        "trusted": true,
        "id": "i9PEXP48XAYP"
      },
      "execution_count": 54,
      "outputs": []
    },
    {
      "cell_type": "code",
      "source": [
        "model_2.fit(train_batch,validation_data=val_batch,epochs=10)"
      ],
      "metadata": {
        "execution": {
          "iopub.status.busy": "2022-07-03T12:03:20.186328Z",
          "iopub.execute_input": "2022-07-03T12:03:20.186597Z",
          "iopub.status.idle": "2022-07-03T12:03:46.683412Z",
          "shell.execute_reply.started": "2022-07-03T12:03:20.186569Z",
          "shell.execute_reply": "2022-07-03T12:03:46.682736Z"
        },
        "trusted": true,
        "id": "VrhOAFtTXAYP",
        "colab": {
          "base_uri": "https://localhost:8080/"
        },
        "outputId": "2eb6e263-0f49-4eb8-a450-53c228c52bdc"
      },
      "execution_count": 55,
      "outputs": [
        {
          "output_type": "stream",
          "name": "stdout",
          "text": [
            "Epoch 1/10\n",
            "108/108 [==============================] - 4s 21ms/step - loss: 0.6882 - f1_score: 0.2563 - val_loss: 0.6867 - val_f1_score: 0.0000e+00\n",
            "Epoch 2/10\n",
            "108/108 [==============================] - 2s 20ms/step - loss: 0.6648 - f1_score: 0.2792 - val_loss: 0.6256 - val_f1_score: 0.5827\n",
            "Epoch 3/10\n",
            "108/108 [==============================] - 2s 19ms/step - loss: 0.5927 - f1_score: 0.5972 - val_loss: 0.5839 - val_f1_score: 0.7093\n",
            "Epoch 4/10\n",
            "108/108 [==============================] - 2s 19ms/step - loss: 0.4943 - f1_score: 0.7129 - val_loss: 0.5260 - val_f1_score: 0.7444\n",
            "Epoch 5/10\n",
            "108/108 [==============================] - 2s 19ms/step - loss: 0.4014 - f1_score: 0.7797 - val_loss: 0.6023 - val_f1_score: 0.7000\n",
            "Epoch 6/10\n",
            "108/108 [==============================] - 2s 19ms/step - loss: 0.3389 - f1_score: 0.8341 - val_loss: 0.6054 - val_f1_score: 0.6839\n",
            "Epoch 7/10\n",
            "108/108 [==============================] - 2s 20ms/step - loss: 0.2637 - f1_score: 0.8801 - val_loss: 0.6908 - val_f1_score: 0.6690\n",
            "Epoch 8/10\n",
            "108/108 [==============================] - 2s 19ms/step - loss: 0.2158 - f1_score: 0.9011 - val_loss: 0.9751 - val_f1_score: 0.6927\n",
            "Epoch 9/10\n",
            "108/108 [==============================] - 2s 19ms/step - loss: 0.1718 - f1_score: 0.9208 - val_loss: 1.0893 - val_f1_score: 0.6749\n",
            "Epoch 10/10\n",
            "108/108 [==============================] - 2s 20ms/step - loss: 0.1547 - f1_score: 0.9308 - val_loss: 1.2941 - val_f1_score: 0.6734\n"
          ]
        },
        {
          "output_type": "execute_result",
          "data": {
            "text/plain": [
              "<keras.callbacks.History at 0x7fa1d9612850>"
            ]
          },
          "metadata": {},
          "execution_count": 55
        }
      ]
    },
    {
      "cell_type": "code",
      "source": [
        "plt.plot(model_2.history.history[\"loss\"], c=\"r\", label=\"train_loss\")\n",
        "plt.plot(model_2.history.history[\"val_loss\"], c=\"b\", label=\"val_loss\")\n",
        "plt.legend(loc=\"upper left\")\n",
        "plt.show()"
      ],
      "metadata": {
        "execution": {
          "iopub.status.busy": "2022-07-03T12:03:55.188252Z",
          "iopub.execute_input": "2022-07-03T12:03:55.188541Z",
          "iopub.status.idle": "2022-07-03T12:03:55.365768Z",
          "shell.execute_reply.started": "2022-07-03T12:03:55.188510Z",
          "shell.execute_reply": "2022-07-03T12:03:55.364938Z"
        },
        "trusted": true,
        "id": "T4RdV0g9XAYQ",
        "colab": {
          "base_uri": "https://localhost:8080/",
          "height": 265
        },
        "outputId": "912eef68-38bb-4205-a794-614011a50f76"
      },
      "execution_count": 56,
      "outputs": [
        {
          "output_type": "display_data",
          "data": {
            "text/plain": [
              "<Figure size 432x288 with 1 Axes>"
            ],
            "image/png": "[encoded data removed]"
          },
          "metadata": {
            "needs_background": "light"
          }
        }
      ]
    },
    {
      "cell_type": "code",
      "source": [
        "plt.plot(model_2.history.history[\"f1_score\"], c=\"r\", label=\"train_F_score\")\n",
        "plt.plot(model_2.history.history[\"val_f1_score\"], c=\"b\", label=\"val_F_score\")\n",
        "plt.legend(loc=\"upper left\")\n",
        "plt.show()"
      ],
      "metadata": {
        "execution": {
          "iopub.status.busy": "2022-07-03T12:03:58.708601Z",
          "iopub.execute_input": "2022-07-03T12:03:58.708896Z",
          "iopub.status.idle": "2022-07-03T12:03:58.887290Z",
          "shell.execute_reply.started": "2022-07-03T12:03:58.708864Z",
          "shell.execute_reply": "2022-07-03T12:03:58.886575Z"
        },
        "trusted": true,
        "id": "w04bRoeCXAYQ",
        "colab": {
          "base_uri": "https://localhost:8080/",
          "height": 265
        },
        "outputId": "385da99d-e61b-4ad7-d9ed-8ebe586bade6"
      },
      "execution_count": 57,
      "outputs": [
        {
          "output_type": "display_data",
          "data": {
            "text/plain": [
              "<Figure size 432x288 with 1 Axes>"
            ],
            "image/png": "[encoded data removed]"
          },
          "metadata": {
            "needs_background": "light"
          }
        }
      ]
    },
    {
      "cell_type": "markdown",
      "source": [
        "**No improvement on model 1. Rapid overfitting.**"
      ],
      "metadata": {
        "id": "jdYVwh5Ym4SJ"
      }
    },
    {
      "cell_type": "markdown",
      "source": [
        "### Model 3: GRU with dense layers and dropout layers to reduce overfitting"
      ],
      "metadata": {
        "id": "iZ_9EaycnIkO"
      }
    },
    {
      "cell_type": "code",
      "source": [
        "embedding_dim = 64  \n",
        "vocab_size = len(tokenizer.word_index)\n",
        "\n",
        "model_3 = Sequential([\n",
        "  Embedding(vocab_size+1, embedding_dim,input_length = text_pad.shape[1], name=\"embedding\"), \n",
        "  GRU(units=32, return_sequences=False, return_state=False),\n",
        "  Dense(32, activation=tf.keras.layers.LeakyReLU()),\n",
        "  Dropout(0.5),\n",
        "  Dense(16, activation=tf.keras.layers.LeakyReLU()),\n",
        "  Dropout(0.5),\n",
        "  Dense(8, activation=tf.keras.layers.LeakyReLU()),\n",
        "  Dropout(0.5),\n",
        "  Dense(1, activation=\"sigmoid\")\n",
        "])"
      ],
      "metadata": {
        "execution": {
          "iopub.status.busy": "2022-07-03T12:15:10.307421Z",
          "iopub.execute_input": "2022-07-03T12:15:10.307757Z",
          "iopub.status.idle": "2022-07-03T12:15:10.567466Z",
          "shell.execute_reply.started": "2022-07-03T12:15:10.307721Z",
          "shell.execute_reply": "2022-07-03T12:15:10.566656Z"
        },
        "trusted": true,
        "id": "8Pvf4QRNXAYQ"
      },
      "execution_count": 58,
      "outputs": []
    },
    {
      "cell_type": "code",
      "source": [
        "model_3.compile(optimizer='adam',\n",
        "              loss=tf.keras.losses.BinaryCrossentropy(),\n",
        "              metrics=[f1])\n",
        "model_3.fit(train_batch,validation_data=val_batch,epochs=10)"
      ],
      "metadata": {
        "execution": {
          "iopub.status.busy": "2022-07-03T12:15:12.937258Z",
          "iopub.execute_input": "2022-07-03T12:15:12.938222Z",
          "iopub.status.idle": "2022-07-03T12:16:28.096064Z",
          "shell.execute_reply.started": "2022-07-03T12:15:12.938165Z",
          "shell.execute_reply": "2022-07-03T12:16:28.094774Z"
        },
        "trusted": true,
        "id": "JWArdIWhXAYQ",
        "colab": {
          "base_uri": "https://localhost:8080/"
        },
        "outputId": "4ed03c29-bdf0-4d9a-fc58-82f91fbb97dd"
      },
      "execution_count": 59,
      "outputs": [
        {
          "output_type": "stream",
          "name": "stdout",
          "text": [
            "Epoch 1/10\n",
            "108/108 [==============================] - 6s 33ms/step - loss: 0.6881 - f1_score: 0.2232 - val_loss: 0.6891 - val_f1_score: 0.0000e+00\n",
            "Epoch 2/10\n",
            "108/108 [==============================] - 3s 30ms/step - loss: 0.6843 - f1_score: 6.8329e-04 - val_loss: 0.6893 - val_f1_score: 0.0000e+00\n",
            "Epoch 3/10\n",
            "108/108 [==============================] - 3s 29ms/step - loss: 0.6836 - f1_score: 0.0000e+00 - val_loss: 0.6897 - val_f1_score: 0.0000e+00\n",
            "Epoch 4/10\n",
            "108/108 [==============================] - 3s 29ms/step - loss: 0.6828 - f1_score: 0.0000e+00 - val_loss: 0.6900 - val_f1_score: 0.0000e+00\n",
            "Epoch 5/10\n",
            "108/108 [==============================] - 3s 29ms/step - loss: 0.6827 - f1_score: 0.0000e+00 - val_loss: 0.6902 - val_f1_score: 0.0000e+00\n",
            "Epoch 6/10\n",
            "108/108 [==============================] - 3s 28ms/step - loss: 0.6834 - f1_score: 0.0000e+00 - val_loss: 0.6899 - val_f1_score: 0.0000e+00\n",
            "Epoch 7/10\n",
            "108/108 [==============================] - 3s 29ms/step - loss: 0.6832 - f1_score: 0.0061 - val_loss: 0.6899 - val_f1_score: 0.0000e+00\n",
            "Epoch 8/10\n",
            "108/108 [==============================] - 3s 29ms/step - loss: 0.6340 - f1_score: 0.3243 - val_loss: 0.5037 - val_f1_score: 0.7426\n",
            "Epoch 9/10\n",
            "108/108 [==============================] - 3s 29ms/step - loss: 0.4228 - f1_score: 0.7821 - val_loss: 0.5253 - val_f1_score: 0.7407\n",
            "Epoch 10/10\n",
            "108/108 [==============================] - 3s 28ms/step - loss: 0.2828 - f1_score: 0.8868 - val_loss: 0.6299 - val_f1_score: 0.7411\n"
          ]
        },
        {
          "output_type": "execute_result",
          "data": {
            "text/plain": [
              "<keras.callbacks.History at 0x7fa1d26aa610>"
            ]
          },
          "metadata": {},
          "execution_count": 59
        }
      ]
    },
    {
      "cell_type": "code",
      "source": [
        "plt.plot(model_3.history.history[\"loss\"], c=\"r\", label=\"train_loss\")\n",
        "plt.plot(model_3.history.history[\"val_loss\"], c=\"b\", label=\"val_loss\")\n",
        "plt.legend(loc=\"upper left\")\n",
        "plt.show()"
      ],
      "metadata": {
        "execution": {
          "iopub.status.busy": "2022-07-03T12:16:44.845479Z",
          "iopub.execute_input": "2022-07-03T12:16:44.846238Z",
          "iopub.status.idle": "2022-07-03T12:16:45.004634Z",
          "shell.execute_reply.started": "2022-07-03T12:16:44.846195Z",
          "shell.execute_reply": "2022-07-03T12:16:45.003995Z"
        },
        "trusted": true,
        "id": "Qp9s9EETXAYR",
        "colab": {
          "base_uri": "https://localhost:8080/",
          "height": 265
        },
        "outputId": "05654916-39a3-441a-a4ef-c6037444af53"
      },
      "execution_count": 60,
      "outputs": [
        {
          "output_type": "display_data",
          "data": {
            "text/plain": [
              "<Figure size 432x288 with 1 Axes>"
            ],
            "image/png": "[encoded data removed]"
          },
          "metadata": {
            "needs_background": "light"
          }
        }
      ]
    },
    {
      "cell_type": "code",
      "source": [
        "plt.plot(model_3.history.history[\"f1_score\"], c=\"r\", label=\"train_F_score\")\n",
        "plt.plot(model_3.history.history[\"val_f1_score\"], c=\"b\", label=\"val_F_score\")\n",
        "plt.legend(loc=\"upper left\")\n",
        "plt.show()"
      ],
      "metadata": {
        "execution": {
          "iopub.status.busy": "2022-07-03T12:16:57.516944Z",
          "iopub.execute_input": "2022-07-03T12:16:57.517950Z",
          "iopub.status.idle": "2022-07-03T12:16:57.669269Z",
          "shell.execute_reply.started": "2022-07-03T12:16:57.517894Z",
          "shell.execute_reply": "2022-07-03T12:16:57.668602Z"
        },
        "trusted": true,
        "id": "8FSBc7g5XAYR",
        "colab": {
          "base_uri": "https://localhost:8080/",
          "height": 265
        },
        "outputId": "86a4d4d0-2bc5-41a2-983e-0b8ba97a2a8c"
      },
      "execution_count": 61,
      "outputs": [
        {
          "output_type": "display_data",
          "data": {
            "text/plain": [
              "<Figure size 432x288 with 1 Axes>"
            ],
            "image/png": "[encoded data removed]"
          },
          "metadata": {
            "needs_background": "light"
          }
        }
      ]
    },
    {
      "cell_type": "markdown",
      "source": [
        "**No improvement on model 1 and 2**"
      ],
      "metadata": {
        "id": "cDprg2Ptn9Zs"
      }
    },
    {
      "cell_type": "markdown",
      "source": [
        "### Model 4: LSTM with dense layers and dropout layers to reduce overfitting"
      ],
      "metadata": {
        "id": "nQYiHvzdoHdX"
      }
    },
    {
      "cell_type": "code",
      "source": [
        "embedding_dim = 64  \n",
        "vocab_size = len(tokenizer.word_index)\n",
        "\n",
        "model_4 = Sequential([\n",
        "  Embedding(vocab_size+1, embedding_dim,input_length = text_pad.shape[1], name=\"embedding\"), \n",
        "  LSTM(units=64, return_sequences=True),\n",
        "  LSTM(units=32, return_sequences=False),\n",
        "  Dense(32, activation=tf.keras.layers.LeakyReLU()),\n",
        "  Dropout(0.5),\n",
        "  Dense(16, activation=tf.keras.layers.LeakyReLU()),\n",
        "  Dropout(0.5),\n",
        "  Dense(1, activation=\"sigmoid\")\n",
        "])"
      ],
      "metadata": {
        "execution": {
          "iopub.status.busy": "2022-07-03T12:40:52.379822Z",
          "iopub.execute_input": "2022-07-03T12:40:52.380448Z",
          "iopub.status.idle": "2022-07-03T12:40:52.891690Z",
          "shell.execute_reply.started": "2022-07-03T12:40:52.380407Z",
          "shell.execute_reply": "2022-07-03T12:40:52.890806Z"
        },
        "trusted": true,
        "id": "grAIJ4uXXAYS"
      },
      "execution_count": 62,
      "outputs": []
    },
    {
      "cell_type": "code",
      "source": [
        "model_4.compile(optimizer='adam',\n",
        "              loss=tf.keras.losses.BinaryCrossentropy(),\n",
        "              metrics=[f1])\n",
        "model_4.fit(train_batch,validation_data=val_batch,epochs=10)"
      ],
      "metadata": {
        "execution": {
          "iopub.status.busy": "2022-07-03T12:40:54.713355Z",
          "iopub.execute_input": "2022-07-03T12:40:54.713653Z",
          "iopub.status.idle": "2022-07-03T12:42:01.746203Z",
          "shell.execute_reply.started": "2022-07-03T12:40:54.713615Z",
          "shell.execute_reply": "2022-07-03T12:42:01.745585Z"
        },
        "trusted": true,
        "id": "BYovZNEtXAYS",
        "colab": {
          "base_uri": "https://localhost:8080/"
        },
        "outputId": "f44226ff-1080-4391-8aa3-5b91860d9d74"
      },
      "execution_count": 63,
      "outputs": [
        {
          "output_type": "stream",
          "name": "stdout",
          "text": [
            "Epoch 1/10\n",
            "108/108 [==============================] - 10s 60ms/step - loss: 0.6393 - f1_score: 0.4231 - val_loss: 0.5552 - val_f1_score: 0.7219\n",
            "Epoch 2/10\n",
            "108/108 [==============================] - 6s 51ms/step - loss: 0.4239 - f1_score: 0.7989 - val_loss: 0.5206 - val_f1_score: 0.7573\n",
            "Epoch 3/10\n",
            "108/108 [==============================] - 5s 51ms/step - loss: 0.2650 - f1_score: 0.8937 - val_loss: 0.6067 - val_f1_score: 0.7356\n",
            "Epoch 4/10\n",
            "108/108 [==============================] - 6s 53ms/step - loss: 0.1742 - f1_score: 0.9343 - val_loss: 0.6429 - val_f1_score: 0.7196\n",
            "Epoch 5/10\n",
            "108/108 [==============================] - 6s 51ms/step - loss: 0.1252 - f1_score: 0.9584 - val_loss: 0.8161 - val_f1_score: 0.7130\n",
            "Epoch 6/10\n",
            "108/108 [==============================] - 6s 52ms/step - loss: 0.1075 - f1_score: 0.9645 - val_loss: 0.7916 - val_f1_score: 0.7250\n",
            "Epoch 7/10\n",
            "108/108 [==============================] - 6s 52ms/step - loss: 0.0779 - f1_score: 0.9738 - val_loss: 1.2441 - val_f1_score: 0.7190\n",
            "Epoch 8/10\n",
            "108/108 [==============================] - 6s 52ms/step - loss: 0.0623 - f1_score: 0.9774 - val_loss: 1.5872 - val_f1_score: 0.7077\n",
            "Epoch 9/10\n",
            "108/108 [==============================] - 6s 52ms/step - loss: 0.0569 - f1_score: 0.9780 - val_loss: 1.5476 - val_f1_score: 0.7064\n",
            "Epoch 10/10\n",
            "108/108 [==============================] - 7s 62ms/step - loss: 0.0536 - f1_score: 0.9769 - val_loss: 1.6863 - val_f1_score: 0.7054\n"
          ]
        },
        {
          "output_type": "execute_result",
          "data": {
            "text/plain": [
              "<keras.callbacks.History at 0x7fa1cc8d5150>"
            ]
          },
          "metadata": {},
          "execution_count": 63
        }
      ]
    },
    {
      "cell_type": "code",
      "source": [
        "plt.plot(model_4.history.history[\"loss\"], c=\"r\", label=\"train_loss\")\n",
        "plt.plot(model_4.history.history[\"val_loss\"], c=\"b\", label=\"val_loss\")\n",
        "plt.legend(loc=\"upper left\")\n",
        "plt.show()"
      ],
      "metadata": {
        "colab": {
          "base_uri": "https://localhost:8080/",
          "height": 265
        },
        "id": "Y9qbFS_7__ZV",
        "outputId": "595177c9-e1d1-4dc6-f543-bbce6fd530ad"
      },
      "execution_count": 64,
      "outputs": [
        {
          "output_type": "display_data",
          "data": {
            "text/plain": [
              "<Figure size 432x288 with 1 Axes>"
            ],
            "image/png": "[encoded data removed]"
          },
          "metadata": {
            "needs_background": "light"
          }
        }
      ]
    },
    {
      "cell_type": "code",
      "source": [
        "plt.plot(model_4.history.history[\"f1_score\"], c=\"r\", label=\"train_F_score\")\n",
        "plt.plot(model_4.history.history[\"val_f1_score\"], c=\"b\", label=\"val_F_score\")\n",
        "plt.legend(loc=\"upper left\")\n",
        "plt.show()"
      ],
      "metadata": {
        "colab": {
          "base_uri": "https://localhost:8080/",
          "height": 267
        },
        "id": "aVHfUW59__RH",
        "outputId": "a4300f8a-5462-485b-c25f-d72ad6a283bf"
      },
      "execution_count": 65,
      "outputs": [
        {
          "output_type": "display_data",
          "data": {
            "text/plain": [
              "<Figure size 432x288 with 1 Axes>"
            ],
            "image/png": "[encoded data removed]"
          },
          "metadata": {
            "needs_background": "light"
          }
        }
      ]
    },
    {
      "cell_type": "markdown",
      "source": [
        "All models rapidly overfit the training data. A way to reduce overfitting is to use pretrained embedding. I choose to use the pretrained word embedding from https://nlp.stanford.edu/projects/glove/ . Specifically I use pretrained vectorization from a Twitter crawl (2B tweets).\n",
        "\n",
        "Source : Jeffrey Pennington, Richard Socher, and Christopher D. Manning. 2014. [GloVe: Global Vectors for Word Representation](https://nlp.stanford.edu/pubs/glove.pdf). "
      ],
      "metadata": {
        "id": "mj4f26WgqO9G"
      }
    },
    {
      "cell_type": "code",
      "source": [
        "!wget --no-check-certificate \\\n",
        "     http://nlp.stanford.edu/data/glove.twitter.27B.zip \\\n",
        "     -O /tmp/glove.twitter.27B.zip\n",
        "    "
      ],
      "metadata": {
        "execution": {
          "iopub.status.busy": "2022-07-03T13:12:38.490213Z",
          "iopub.execute_input": "2022-07-03T13:12:38.490545Z",
          "iopub.status.idle": "2022-07-03T13:32:29.122554Z",
          "shell.execute_reply.started": "2022-07-03T13:12:38.490508Z",
          "shell.execute_reply": "2022-07-03T13:32:29.121578Z"
        },
        "trusted": true,
        "colab": {
          "base_uri": "https://localhost:8080/"
        },
        "id": "L4mPVrB_XAYS",
        "outputId": "5582c3da-b1be-4575-e4d0-f8676e392f70"
      },
      "execution_count": 11,
      "outputs": [
        {
          "output_type": "stream",
          "name": "stdout",
          "text": [
            "--2022-07-19 10:19:52--  http://nlp.stanford.edu/data/glove.twitter.27B.zip\n",
            "Resolving nlp.stanford.edu (nlp.stanford.edu)... 171.64.67.140\n",
            "Connecting to nlp.stanford.edu (nlp.stanford.edu)|171.64.67.140|:80... connected.\n",
            "HTTP request sent, awaiting response... 302 Found\n",
            "Location: https://nlp.stanford.edu/data/glove.twitter.27B.zip [following]\n",
            "--2022-07-19 10:19:52--  https://nlp.stanford.edu/data/glove.twitter.27B.zip\n",
            "Connecting to nlp.stanford.edu (nlp.stanford.edu)|171.64.67.140|:443... connected.\n",
            "HTTP request sent, awaiting response... 301 Moved Permanently\n",
            "Location: https://downloads.cs.stanford.edu/nlp/data/glove.twitter.27B.zip [following]\n",
            "--2022-07-19 10:19:52--  https://downloads.cs.stanford.edu/nlp/data/glove.twitter.27B.zip\n",
            "Resolving downloads.cs.stanford.edu (downloads.cs.stanford.edu)... 171.64.64.22\n",
            "Connecting to downloads.cs.stanford.edu (downloads.cs.stanford.edu)|171.64.64.22|:443... connected.\n",
            "HTTP request sent, awaiting response... 200 OK\n",
            "Length: 1520408563 (1.4G) [application/zip]\n",
            "Saving to: ‘/tmp/glove.twitter.27B.zip’\n",
            "\n",
            "/tmp/glove.twitter. 100%[===================>]   1.42G  4.96MB/s    in 4m 44s  \n",
            "\n",
            "2022-07-19 10:24:37 (5.10 MB/s) - ‘/tmp/glove.twitter.27B.zip’ saved [1520408563/1520408563]\n",
            "\n"
          ]
        }
      ]
    },
    {
      "cell_type": "code",
      "source": [
        "import zipfile\n",
        "with zipfile.ZipFile('/tmp/glove.twitter.27B.zip', 'r') as zip_ref:\n",
        "    zip_ref.extractall('/tmp/glove')"
      ],
      "metadata": {
        "execution": {
          "iopub.status.busy": "2022-07-03T13:44:52.718891Z",
          "iopub.execute_input": "2022-07-03T13:44:52.720593Z",
          "iopub.status.idle": "2022-07-03T13:45:30.715655Z",
          "shell.execute_reply.started": "2022-07-03T13:44:52.720543Z",
          "shell.execute_reply": "2022-07-03T13:45:30.714534Z"
        },
        "trusted": true,
        "id": "eK-e2uhVXAYT"
      },
      "execution_count": 12,
      "outputs": []
    },
    {
      "cell_type": "code",
      "source": [
        "#extract vectors from txt file\n",
        "\n",
        "embeddings_index = {}\n",
        "f = open('/tmp/glove/glove.twitter.27B.200d.txt')\n",
        "for line in f:\n",
        "    values = line.split()\n",
        "    word = values[0]\n",
        "    coefs = np.asarray(values[1:], dtype='float32')\n",
        "    embeddings_index[word] = coefs\n",
        "f.close()\n",
        "\n",
        "print('Found %s word vectors.' % len(embeddings_index))"
      ],
      "metadata": {
        "execution": {
          "iopub.status.busy": "2022-07-03T13:46:25.655451Z",
          "iopub.execute_input": "2022-07-03T13:46:25.655745Z",
          "iopub.status.idle": "2022-07-03T13:46:25.686009Z",
          "shell.execute_reply.started": "2022-07-03T13:46:25.655702Z",
          "shell.execute_reply": "2022-07-03T13:46:25.684957Z"
        },
        "trusted": true,
        "colab": {
          "base_uri": "https://localhost:8080/"
        },
        "id": "QxNHFKVRXAYT",
        "outputId": "c8b93821-f145-4189-f3ec-f9994f090087"
      },
      "execution_count": 14,
      "outputs": [
        {
          "output_type": "stream",
          "name": "stdout",
          "text": [
            "Found 1193514 word vectors.\n"
          ]
        }
      ]
    },
    {
      "cell_type": "code",
      "source": [
        "word_index = tokenizer.word_index\n",
        "max_length = 200\n",
        "\n",
        "#populate embedding matrix with vector values for every word in tokenizer vocabulary\n",
        "embedding_matrix = np.zeros((len(word_index) + 1, max_length))  \n",
        "for word, i in word_index.items():\n",
        "    embedding_vector = embeddings_index.get(word)\n",
        "    if embedding_vector is not None:\n",
        "        # words not found in embedding index will be all-zeros.\n",
        "        embedding_matrix[i] = embedding_vector"
      ],
      "metadata": {
        "id": "Obj2YddnXAYT"
      },
      "execution_count": 20,
      "outputs": []
    },
    {
      "cell_type": "code",
      "source": [
        "embedding_dim=200 \n",
        "\n",
        "vocab_size = len(tokenizer.word_index)\n",
        "\n",
        "model_5 = Sequential([\n",
        "  Embedding(vocab_size+1, embedding_dim, weights=[embedding_matrix], name=\"embedding\",trainable=False),\n",
        "  GlobalAveragePooling1D(),\n",
        "  Dense(128, activation=tf.keras.layers.LeakyReLU()),\n",
        "  Dropout(0.5),\n",
        "  Dense(64, activation=tf.keras.layers.LeakyReLU()),\n",
        "  Dropout(0.5),\n",
        "  Dense(32, activation=tf.keras.layers.LeakyReLU()),\n",
        "  Dropout(0.5),\n",
        "  Dense(16, activation=tf.keras.layers.LeakyReLU()),\n",
        "  Dropout(0.5),\n",
        "  Dense(1, activation=\"sigmoid\") \n",
        "])\n",
        "\n",
        "model_5.summary()"
      ],
      "metadata": {
        "colab": {
          "base_uri": "https://localhost:8080/"
        },
        "id": "3hBx7s0YXAYT",
        "outputId": "fbf9ed39-3a80-4c82-e921-f22f69d30faa"
      },
      "execution_count": 66,
      "outputs": [
        {
          "output_type": "stream",
          "name": "stdout",
          "text": [
            "Model: \"sequential_11\"\n",
            "_________________________________________________________________\n",
            " Layer (type)                Output Shape              Param #   \n",
            "=================================================================\n",
            " embedding (Embedding)       (None, None, 200)         2826000   \n",
            "                                                                 \n",
            " global_average_pooling1d_7   (None, 200)              0         \n",
            " (GlobalAveragePooling1D)                                        \n",
            "                                                                 \n",
            " dense_39 (Dense)            (None, 128)               25728     \n",
            "                                                                 \n",
            " dropout_28 (Dropout)        (None, 128)               0         \n",
            "                                                                 \n",
            " dense_40 (Dense)            (None, 64)                8256      \n",
            "                                                                 \n",
            " dropout_29 (Dropout)        (None, 64)                0         \n",
            "                                                                 \n",
            " dense_41 (Dense)            (None, 32)                2080      \n",
            "                                                                 \n",
            " dropout_30 (Dropout)        (None, 32)                0         \n",
            "                                                                 \n",
            " dense_42 (Dense)            (None, 16)                528       \n",
            "                                                                 \n",
            " dropout_31 (Dropout)        (None, 16)                0         \n",
            "                                                                 \n",
            " dense_43 (Dense)            (None, 1)                 17        \n",
            "                                                                 \n",
            "=================================================================\n",
            "Total params: 2,862,609\n",
            "Trainable params: 36,609\n",
            "Non-trainable params: 2,826,000\n",
            "_________________________________________________________________\n"
          ]
        }
      ]
    },
    {
      "cell_type": "code",
      "source": [
        "f1 = tfa.metrics.F1Score(num_classes=1, threshold=0.5)\n",
        "model_5.compile(optimizer='adam',\n",
        "              loss=tf.keras.losses.BinaryCrossentropy(),\n",
        "              metrics=[f1])\n",
        "model_5.fit(train_batch,validation_data=val_batch,epochs=50)"
      ],
      "metadata": {
        "colab": {
          "base_uri": "https://localhost:8080/"
        },
        "id": "Tev2I-W_XAYU",
        "outputId": "07c3ced0-93d0-446a-ca6e-ca3469c8c709"
      },
      "execution_count": 67,
      "outputs": [
        {
          "output_type": "stream",
          "name": "stdout",
          "text": [
            "Epoch 1/50\n",
            "108/108 [==============================] - 1s 6ms/step - loss: 0.6252 - f1_score: 0.5608 - val_loss: 0.4976 - val_f1_score: 0.7290\n",
            "Epoch 2/50\n",
            "108/108 [==============================] - 0s 4ms/step - loss: 0.5203 - f1_score: 0.7037 - val_loss: 0.4641 - val_f1_score: 0.7528\n",
            "Epoch 3/50\n",
            "108/108 [==============================] - 0s 4ms/step - loss: 0.4959 - f1_score: 0.7254 - val_loss: 0.4575 - val_f1_score: 0.7671\n",
            "Epoch 4/50\n",
            "108/108 [==============================] - 0s 4ms/step - loss: 0.4812 - f1_score: 0.7285 - val_loss: 0.4607 - val_f1_score: 0.7516\n",
            "Epoch 5/50\n",
            "108/108 [==============================] - 0s 4ms/step - loss: 0.4809 - f1_score: 0.7283 - val_loss: 0.4572 - val_f1_score: 0.7603\n",
            "Epoch 6/50\n",
            "108/108 [==============================] - 0s 4ms/step - loss: 0.4683 - f1_score: 0.7385 - val_loss: 0.4657 - val_f1_score: 0.7310\n",
            "Epoch 7/50\n",
            "108/108 [==============================] - 0s 4ms/step - loss: 0.4644 - f1_score: 0.7404 - val_loss: 0.4612 - val_f1_score: 0.7548\n",
            "Epoch 8/50\n",
            "108/108 [==============================] - 0s 4ms/step - loss: 0.4565 - f1_score: 0.7458 - val_loss: 0.4613 - val_f1_score: 0.7604\n",
            "Epoch 9/50\n",
            "108/108 [==============================] - 0s 4ms/step - loss: 0.4508 - f1_score: 0.7510 - val_loss: 0.4589 - val_f1_score: 0.7616\n",
            "Epoch 10/50\n",
            "108/108 [==============================] - 0s 4ms/step - loss: 0.4533 - f1_score: 0.7515 - val_loss: 0.4632 - val_f1_score: 0.7439\n",
            "Epoch 11/50\n",
            "108/108 [==============================] - 0s 4ms/step - loss: 0.4534 - f1_score: 0.7505 - val_loss: 0.4630 - val_f1_score: 0.7488\n",
            "Epoch 12/50\n",
            "108/108 [==============================] - 0s 4ms/step - loss: 0.4356 - f1_score: 0.7579 - val_loss: 0.4607 - val_f1_score: 0.7697\n",
            "Epoch 13/50\n",
            "108/108 [==============================] - 0s 4ms/step - loss: 0.4434 - f1_score: 0.7532 - val_loss: 0.4581 - val_f1_score: 0.7476\n",
            "Epoch 14/50\n",
            "108/108 [==============================] - 0s 4ms/step - loss: 0.4420 - f1_score: 0.7554 - val_loss: 0.4644 - val_f1_score: 0.7406\n",
            "Epoch 15/50\n",
            "108/108 [==============================] - 0s 4ms/step - loss: 0.4317 - f1_score: 0.7558 - val_loss: 0.4648 - val_f1_score: 0.7504\n",
            "Epoch 16/50\n",
            "108/108 [==============================] - 0s 4ms/step - loss: 0.4324 - f1_score: 0.7568 - val_loss: 0.4646 - val_f1_score: 0.7654\n",
            "Epoch 17/50\n",
            "108/108 [==============================] - 0s 4ms/step - loss: 0.4297 - f1_score: 0.7621 - val_loss: 0.4624 - val_f1_score: 0.7618\n",
            "Epoch 18/50\n",
            "108/108 [==============================] - 0s 4ms/step - loss: 0.4231 - f1_score: 0.7627 - val_loss: 0.4683 - val_f1_score: 0.7476\n",
            "Epoch 19/50\n",
            "108/108 [==============================] - 0s 4ms/step - loss: 0.4253 - f1_score: 0.7583 - val_loss: 0.4688 - val_f1_score: 0.7348\n",
            "Epoch 20/50\n",
            "108/108 [==============================] - 0s 4ms/step - loss: 0.4232 - f1_score: 0.7624 - val_loss: 0.4672 - val_f1_score: 0.7621\n",
            "Epoch 21/50\n",
            "108/108 [==============================] - 1s 5ms/step - loss: 0.4145 - f1_score: 0.7643 - val_loss: 0.4807 - val_f1_score: 0.7692\n",
            "Epoch 22/50\n",
            "108/108 [==============================] - 0s 4ms/step - loss: 0.4094 - f1_score: 0.7702 - val_loss: 0.4718 - val_f1_score: 0.7650\n",
            "Epoch 23/50\n",
            "108/108 [==============================] - 0s 4ms/step - loss: 0.4157 - f1_score: 0.7658 - val_loss: 0.4760 - val_f1_score: 0.7556\n",
            "Epoch 24/50\n",
            "108/108 [==============================] - 0s 4ms/step - loss: 0.4097 - f1_score: 0.7655 - val_loss: 0.4763 - val_f1_score: 0.7339\n",
            "Epoch 25/50\n",
            "108/108 [==============================] - 0s 4ms/step - loss: 0.4117 - f1_score: 0.7680 - val_loss: 0.4809 - val_f1_score: 0.7500\n",
            "Epoch 26/50\n",
            "108/108 [==============================] - 0s 4ms/step - loss: 0.4101 - f1_score: 0.7663 - val_loss: 0.4757 - val_f1_score: 0.7536\n",
            "Epoch 27/50\n",
            "108/108 [==============================] - 0s 4ms/step - loss: 0.4069 - f1_score: 0.7707 - val_loss: 0.4786 - val_f1_score: 0.7606\n",
            "Epoch 28/50\n",
            "108/108 [==============================] - 0s 4ms/step - loss: 0.4024 - f1_score: 0.7739 - val_loss: 0.4769 - val_f1_score: 0.7580\n",
            "Epoch 29/50\n",
            "108/108 [==============================] - 0s 4ms/step - loss: 0.3962 - f1_score: 0.7780 - val_loss: 0.4856 - val_f1_score: 0.7623\n",
            "Epoch 30/50\n",
            "108/108 [==============================] - 1s 5ms/step - loss: 0.4073 - f1_score: 0.7710 - val_loss: 0.4813 - val_f1_score: 0.7659\n",
            "Epoch 31/50\n",
            "108/108 [==============================] - 0s 4ms/step - loss: 0.4027 - f1_score: 0.7753 - val_loss: 0.4843 - val_f1_score: 0.7729\n",
            "Epoch 32/50\n",
            "108/108 [==============================] - 0s 4ms/step - loss: 0.4018 - f1_score: 0.7739 - val_loss: 0.4790 - val_f1_score: 0.7580\n",
            "Epoch 33/50\n",
            "108/108 [==============================] - 0s 4ms/step - loss: 0.4003 - f1_score: 0.7756 - val_loss: 0.4770 - val_f1_score: 0.7583\n",
            "Epoch 34/50\n",
            "108/108 [==============================] - 0s 4ms/step - loss: 0.3998 - f1_score: 0.7759 - val_loss: 0.4830 - val_f1_score: 0.7561\n",
            "Epoch 35/50\n",
            "108/108 [==============================] - 1s 5ms/step - loss: 0.3936 - f1_score: 0.7828 - val_loss: 0.4879 - val_f1_score: 0.7451\n",
            "Epoch 36/50\n",
            "108/108 [==============================] - 0s 4ms/step - loss: 0.3928 - f1_score: 0.7726 - val_loss: 0.4870 - val_f1_score: 0.7615\n",
            "Epoch 37/50\n",
            "108/108 [==============================] - 0s 4ms/step - loss: 0.3860 - f1_score: 0.7777 - val_loss: 0.4868 - val_f1_score: 0.7713\n",
            "Epoch 38/50\n",
            "108/108 [==============================] - 0s 4ms/step - loss: 0.3885 - f1_score: 0.7799 - val_loss: 0.4890 - val_f1_score: 0.7631\n",
            "Epoch 39/50\n",
            "108/108 [==============================] - 0s 4ms/step - loss: 0.3955 - f1_score: 0.7803 - val_loss: 0.4874 - val_f1_score: 0.7580\n",
            "Epoch 40/50\n",
            "108/108 [==============================] - 0s 4ms/step - loss: 0.3878 - f1_score: 0.7784 - val_loss: 0.4962 - val_f1_score: 0.7637\n",
            "Epoch 41/50\n",
            "108/108 [==============================] - 0s 4ms/step - loss: 0.3847 - f1_score: 0.7855 - val_loss: 0.4881 - val_f1_score: 0.7680\n",
            "Epoch 42/50\n",
            "108/108 [==============================] - 0s 4ms/step - loss: 0.3713 - f1_score: 0.7931 - val_loss: 0.5008 - val_f1_score: 0.7411\n",
            "Epoch 43/50\n",
            "108/108 [==============================] - 0s 4ms/step - loss: 0.3840 - f1_score: 0.7798 - val_loss: 0.5026 - val_f1_score: 0.7644\n",
            "Epoch 44/50\n",
            "108/108 [==============================] - 0s 4ms/step - loss: 0.3764 - f1_score: 0.7824 - val_loss: 0.5023 - val_f1_score: 0.7512\n",
            "Epoch 45/50\n",
            "108/108 [==============================] - 0s 4ms/step - loss: 0.3760 - f1_score: 0.7910 - val_loss: 0.4968 - val_f1_score: 0.7563\n",
            "Epoch 46/50\n",
            "108/108 [==============================] - 0s 4ms/step - loss: 0.3741 - f1_score: 0.7919 - val_loss: 0.5048 - val_f1_score: 0.7641\n",
            "Epoch 47/50\n",
            "108/108 [==============================] - 0s 4ms/step - loss: 0.3747 - f1_score: 0.7933 - val_loss: 0.4875 - val_f1_score: 0.7361\n",
            "Epoch 48/50\n",
            "108/108 [==============================] - 0s 4ms/step - loss: 0.3702 - f1_score: 0.7894 - val_loss: 0.5035 - val_f1_score: 0.7640\n",
            "Epoch 49/50\n",
            "108/108 [==============================] - 0s 4ms/step - loss: 0.3683 - f1_score: 0.7943 - val_loss: 0.4990 - val_f1_score: 0.7500\n",
            "Epoch 50/50\n",
            "108/108 [==============================] - 0s 4ms/step - loss: 0.3717 - f1_score: 0.7936 - val_loss: 0.4937 - val_f1_score: 0.7528\n"
          ]
        },
        {
          "output_type": "execute_result",
          "data": {
            "text/plain": [
              "<keras.callbacks.History at 0x7fa1cbc8f810>"
            ]
          },
          "metadata": {},
          "execution_count": 67
        }
      ]
    },
    {
      "cell_type": "code",
      "source": [
        "plt.plot(model_5.history.history[\"loss\"], c=\"r\", label=\"train_loss\")\n",
        "plt.plot(model_5.history.history[\"val_loss\"], c=\"b\", label=\"val_loss\")\n",
        "plt.legend(loc=\"upper left\")\n",
        "plt.show()"
      ],
      "metadata": {
        "colab": {
          "base_uri": "https://localhost:8080/",
          "height": 265
        },
        "id": "7tkmGtzjXAYU",
        "outputId": "a36cef27-ea60-4b01-f3e2-0ab0aa0d3c4f"
      },
      "execution_count": 68,
      "outputs": [
        {
          "output_type": "display_data",
          "data": {
            "text/plain": [
              "<Figure size 432x288 with 1 Axes>"
            ],
            "image/png": "[encoded data removed]"
          },
          "metadata": {
            "needs_background": "light"
          }
        }
      ]
    },
    {
      "cell_type": "code",
      "source": [
        "plt.plot(model_5.history.history[\"f1_score\"], c=\"r\", label=\"train_F_score\")\n",
        "plt.plot(model_5.history.history[\"val_f1_score\"], c=\"b\", label=\"val_F_score\")\n",
        "plt.legend(loc=\"upper left\")\n",
        "plt.show()"
      ],
      "metadata": {
        "colab": {
          "base_uri": "https://localhost:8080/",
          "height": 265
        },
        "id": "FWJrPvnMgghH",
        "outputId": "16ff8cbf-7321-43ff-dd9d-101d7dd832c6"
      },
      "execution_count": 69,
      "outputs": [
        {
          "output_type": "display_data",
          "data": {
            "text/plain": [
              "<Figure size 432x288 with 1 Axes>"
            ],
            "image/png": "[encoded data removed]"
          },
          "metadata": {
            "needs_background": "light"
          }
        }
      ]
    },
    {
      "cell_type": "markdown",
      "source": [
        "**Plateau of F1_score and loss function for validation data**"
      ],
      "metadata": {
        "id": "HfX3qM43s62h"
      }
    },
    {
      "cell_type": "markdown",
      "source": [
        "## Same model but with trainable embedding"
      ],
      "metadata": {
        "id": "DpHQ6XN1tR11"
      }
    },
    {
      "cell_type": "code",
      "source": [
        "embedding_dim=200 \n",
        "\n",
        "vocab_size = len(tokenizer.word_index)\n",
        "\n",
        "model_5_b = Sequential([\n",
        "  Embedding(vocab_size+1, embedding_dim, weights=[embedding_matrix], name=\"embedding\",trainable=True),\n",
        "  GlobalAveragePooling1D(),\n",
        "  #Dense(64, activation=tf.keras.layers.LeakyReLU()),\n",
        "  #Dropout(0.5),\n",
        "  #Dense(32, activation=tf.keras.layers.LeakyReLU()),\n",
        "  #Dropout(0.5),\n",
        "  #Dense(16, activation=tf.keras.layers.LeakyReLU()),\n",
        "  #Dropout(0.5),\n",
        "  #Dense(8, activation=tf.keras.layers.LeakyReLU()),\n",
        "  #Dropout(0.5),\n",
        "  Dense(16, activation=\"relu\"),\n",
        "  Dropout(0.5),\n",
        "  Dense(8, activation=\"relu\"),\n",
        "  Dropout(0.5),\n",
        "  Dense(1, activation=\"sigmoid\") \n",
        "])\n",
        "\n",
        "model_5_b.summary()"
      ],
      "metadata": {
        "colab": {
          "base_uri": "https://localhost:8080/"
        },
        "outputId": "8f269dc7-32a3-4935-a09a-3e26685cb2da",
        "id": "ccQXGNd6tPCa"
      },
      "execution_count": 70,
      "outputs": [
        {
          "output_type": "stream",
          "name": "stdout",
          "text": [
            "Model: \"sequential_12\"\n",
            "_________________________________________________________________\n",
            " Layer (type)                Output Shape              Param #   \n",
            "=================================================================\n",
            " embedding (Embedding)       (None, None, 200)         2826000   \n",
            "                                                                 \n",
            " global_average_pooling1d_8   (None, 200)              0         \n",
            " (GlobalAveragePooling1D)                                        \n",
            "                                                                 \n",
            " dense_44 (Dense)            (None, 16)                3216      \n",
            "                                                                 \n",
            " dropout_32 (Dropout)        (None, 16)                0         \n",
            "                                                                 \n",
            " dense_45 (Dense)            (None, 8)                 136       \n",
            "                                                                 \n",
            " dropout_33 (Dropout)        (None, 8)                 0         \n",
            "                                                                 \n",
            " dense_46 (Dense)            (None, 1)                 9         \n",
            "                                                                 \n",
            "=================================================================\n",
            "Total params: 2,829,361\n",
            "Trainable params: 2,829,361\n",
            "Non-trainable params: 0\n",
            "_________________________________________________________________\n"
          ]
        }
      ]
    },
    {
      "cell_type": "code",
      "source": [
        "f1 = tfa.metrics.F1Score(num_classes=1, threshold=0.5)\n",
        "model_5_b.compile(optimizer='adam',\n",
        "              loss=tf.keras.losses.BinaryCrossentropy(),\n",
        "              metrics=[f1])\n",
        "model_5_b.fit(train_batch,validation_data=val_batch,epochs=10)"
      ],
      "metadata": {
        "colab": {
          "base_uri": "https://localhost:8080/"
        },
        "outputId": "9f076e7c-ba8f-4a1a-e879-8ddd76e50672",
        "id": "6_P_ma38tPCb"
      },
      "execution_count": 71,
      "outputs": [
        {
          "output_type": "stream",
          "name": "stdout",
          "text": [
            "Epoch 1/10\n",
            "108/108 [==============================] - 5s 36ms/step - loss: 0.6793 - f1_score: 0.4772 - val_loss: 0.6373 - val_f1_score: 0.7035\n",
            "Epoch 2/10\n",
            "108/108 [==============================] - 4s 34ms/step - loss: 0.6000 - f1_score: 0.6412 - val_loss: 0.5140 - val_f1_score: 0.7556\n",
            "Epoch 3/10\n",
            "108/108 [==============================] - 4s 34ms/step - loss: 0.5130 - f1_score: 0.7262 - val_loss: 0.4543 - val_f1_score: 0.7888\n",
            "Epoch 4/10\n",
            "108/108 [==============================] - 4s 35ms/step - loss: 0.4471 - f1_score: 0.7858 - val_loss: 0.4378 - val_f1_score: 0.7848\n",
            "Epoch 5/10\n",
            "108/108 [==============================] - 4s 36ms/step - loss: 0.3870 - f1_score: 0.8245 - val_loss: 0.4408 - val_f1_score: 0.7867\n",
            "Epoch 6/10\n",
            "108/108 [==============================] - 4s 34ms/step - loss: 0.3429 - f1_score: 0.8529 - val_loss: 0.4662 - val_f1_score: 0.7874\n",
            "Epoch 7/10\n",
            "108/108 [==============================] - 4s 34ms/step - loss: 0.3114 - f1_score: 0.8871 - val_loss: 0.4874 - val_f1_score: 0.7806\n",
            "Epoch 8/10\n",
            "108/108 [==============================] - 4s 34ms/step - loss: 0.2726 - f1_score: 0.8997 - val_loss: 0.5301 - val_f1_score: 0.7679\n",
            "Epoch 9/10\n",
            "108/108 [==============================] - 4s 34ms/step - loss: 0.2449 - f1_score: 0.9086 - val_loss: 0.6055 - val_f1_score: 0.7557\n",
            "Epoch 10/10\n",
            "108/108 [==============================] - 4s 34ms/step - loss: 0.2141 - f1_score: 0.9284 - val_loss: 0.6461 - val_f1_score: 0.7537\n"
          ]
        },
        {
          "output_type": "execute_result",
          "data": {
            "text/plain": [
              "<keras.callbacks.History at 0x7fa1cb963b10>"
            ]
          },
          "metadata": {},
          "execution_count": 71
        }
      ]
    },
    {
      "cell_type": "code",
      "source": [
        "plt.plot(model_5_b.history.history[\"loss\"], c=\"r\", label=\"train_loss\")\n",
        "plt.plot(model_5_b.history.history[\"val_loss\"], c=\"b\", label=\"val_loss\")\n",
        "plt.legend(loc=\"upper left\")\n",
        "plt.show()"
      ],
      "metadata": {
        "colab": {
          "base_uri": "https://localhost:8080/",
          "height": 268
        },
        "outputId": "8e69b93b-0db6-492d-8d9c-2b58a756c8ab",
        "id": "jRV668xGtPCb"
      },
      "execution_count": 72,
      "outputs": [
        {
          "output_type": "display_data",
          "data": {
            "text/plain": [
              "<Figure size 432x288 with 1 Axes>"
            ],
            "image/png": "[encoded data removed]"
          },
          "metadata": {
            "needs_background": "light"
          }
        }
      ]
    },
    {
      "cell_type": "code",
      "source": [
        "plt.plot(model_5_b.history.history[\"f1_score\"], c=\"r\", label=\"train_F_score\")\n",
        "plt.plot(model_5_b.history.history[\"val_f1_score\"], c=\"b\", label=\"val_F_score\")\n",
        "plt.legend(loc=\"upper left\")\n",
        "plt.show()"
      ],
      "metadata": {
        "colab": {
          "base_uri": "https://localhost:8080/",
          "height": 265
        },
        "outputId": "4d1f69c9-93e7-4bcc-c9ea-5a69c69378e8",
        "id": "9X9f1tq_tPCb"
      },
      "execution_count": 73,
      "outputs": [
        {
          "output_type": "display_data",
          "data": {
            "text/plain": [
              "<Figure size 432x288 with 1 Axes>"
            ],
            "image/png": "[encoded data removed]"
          },
          "metadata": {
            "needs_background": "light"
          }
        }
      ]
    },
    {
      "cell_type": "code",
      "source": [
        "embedding_dim=200 \n",
        "\n",
        "vocab_size = len(tokenizer.word_index)\n",
        "\n",
        "model_6 = Sequential([\n",
        "  Embedding(vocab_size+1, embedding_dim, weights=[embedding_matrix], name=\"embedding\",trainable=True),\n",
        "  LSTM(units=64, return_sequences=False),\n",
        "  Dense(128, activation=tf.keras.layers.LeakyReLU()),\n",
        "  Dropout(0.5),\n",
        "  Dense(64, activation=tf.keras.layers.LeakyReLU()),\n",
        "  Dropout(0.5),\n",
        "  Dense(32, activation=tf.keras.layers.LeakyReLU()),\n",
        "  Dropout(0.5),\n",
        "  Dense(16, activation=tf.keras.layers.LeakyReLU()),\n",
        "  Dropout(0.5),\n",
        "  Dense(8, activation=tf.keras.layers.LeakyReLU()),\n",
        "  Dropout(0.5),\n",
        "  Dense(1, activation=\"sigmoid\") \n",
        "])\n",
        "\n",
        "model_6.summary()"
      ],
      "metadata": {
        "colab": {
          "base_uri": "https://localhost:8080/"
        },
        "id": "norqlRDCiS8n",
        "outputId": "58d2e7b4-5043-4755-a035-2ebba36c00c2"
      },
      "execution_count": 74,
      "outputs": [
        {
          "output_type": "stream",
          "name": "stdout",
          "text": [
            "Model: \"sequential_13\"\n",
            "_________________________________________________________________\n",
            " Layer (type)                Output Shape              Param #   \n",
            "=================================================================\n",
            " embedding (Embedding)       (None, None, 200)         2826000   \n",
            "                                                                 \n",
            " lstm_3 (LSTM)               (None, 64)                67840     \n",
            "                                                                 \n",
            " dense_47 (Dense)            (None, 128)               8320      \n",
            "                                                                 \n",
            " dropout_34 (Dropout)        (None, 128)               0         \n",
            "                                                                 \n",
            " dense_48 (Dense)            (None, 64)                8256      \n",
            "                                                                 \n",
            " dropout_35 (Dropout)        (None, 64)                0         \n",
            "                                                                 \n",
            " dense_49 (Dense)            (None, 32)                2080      \n",
            "                                                                 \n",
            " dropout_36 (Dropout)        (None, 32)                0         \n",
            "                                                                 \n",
            " dense_50 (Dense)            (None, 16)                528       \n",
            "                                                                 \n",
            " dropout_37 (Dropout)        (None, 16)                0         \n",
            "                                                                 \n",
            " dense_51 (Dense)            (None, 8)                 136       \n",
            "                                                                 \n",
            " dropout_38 (Dropout)        (None, 8)                 0         \n",
            "                                                                 \n",
            " dense_52 (Dense)            (None, 1)                 9         \n",
            "                                                                 \n",
            "=================================================================\n",
            "Total params: 2,913,169\n",
            "Trainable params: 2,913,169\n",
            "Non-trainable params: 0\n",
            "_________________________________________________________________\n"
          ]
        }
      ]
    },
    {
      "cell_type": "code",
      "source": [
        "f1 = tfa.metrics.F1Score(num_classes=1, threshold=0.5)\n",
        "model_6.compile(optimizer='adam',\n",
        "              loss=tf.keras.losses.BinaryCrossentropy(),\n",
        "              metrics=[f1])\n",
        "model_6.fit(train_batch,validation_data=val_batch,epochs=10)"
      ],
      "metadata": {
        "colab": {
          "base_uri": "https://localhost:8080/"
        },
        "id": "zh59CD0Mi3xT",
        "outputId": "70736643-b9fa-419a-a6d4-30d3301b79d7"
      },
      "execution_count": 36,
      "outputs": [
        {
          "output_type": "stream",
          "name": "stdout",
          "text": [
            "Epoch 1/10\n",
            "108/108 [==============================] - 11s 79ms/step - loss: 0.5787 - f1_score: 0.6180 - val_loss: 0.4779 - val_f1_score: 0.7180\n",
            "Epoch 2/10\n",
            "108/108 [==============================] - 8s 74ms/step - loss: 0.4492 - f1_score: 0.7664 - val_loss: 0.4608 - val_f1_score: 0.7406\n",
            "Epoch 3/10\n",
            "108/108 [==============================] - 9s 83ms/step - loss: 0.3608 - f1_score: 0.8376 - val_loss: 0.5025 - val_f1_score: 0.7699\n",
            "Epoch 4/10\n",
            "108/108 [==============================] - 9s 86ms/step - loss: 0.2808 - f1_score: 0.8753 - val_loss: 0.5269 - val_f1_score: 0.7754\n",
            "Epoch 5/10\n",
            "108/108 [==============================] - 14s 125ms/step - loss: 0.2233 - f1_score: 0.9050 - val_loss: 0.8627 - val_f1_score: 0.7453\n",
            "Epoch 6/10\n",
            "108/108 [==============================] - 8s 74ms/step - loss: 0.1586 - f1_score: 0.9373 - val_loss: 0.8168 - val_f1_score: 0.7504\n",
            "Epoch 7/10\n",
            "108/108 [==============================] - 8s 73ms/step - loss: 0.1304 - f1_score: 0.9455 - val_loss: 1.0249 - val_f1_score: 0.7396\n",
            "Epoch 8/10\n",
            "108/108 [==============================] - 8s 73ms/step - loss: 0.0965 - f1_score: 0.9578 - val_loss: 1.3620 - val_f1_score: 0.7415\n",
            "Epoch 9/10\n",
            "108/108 [==============================] - 8s 73ms/step - loss: 0.0730 - f1_score: 0.9671 - val_loss: 1.6878 - val_f1_score: 0.7396\n",
            "Epoch 10/10\n",
            "108/108 [==============================] - 8s 74ms/step - loss: 0.0632 - f1_score: 0.9702 - val_loss: 1.9019 - val_f1_score: 0.7053\n"
          ]
        },
        {
          "output_type": "execute_result",
          "data": {
            "text/plain": [
              "<keras.callbacks.History at 0x7fa1d9dd6b10>"
            ]
          },
          "metadata": {},
          "execution_count": 36
        }
      ]
    },
    {
      "cell_type": "code",
      "source": [
        "plt.plot(model_6.history.history[\"loss\"], c=\"r\", label=\"train_loss\")\n",
        "plt.plot(model_6.history.history[\"val_loss\"], c=\"b\", label=\"val_loss\")\n",
        "plt.legend(loc=\"upper left\")\n",
        "plt.show()"
      ],
      "metadata": {
        "colab": {
          "base_uri": "https://localhost:8080/",
          "height": 265
        },
        "id": "th1NhbOvjXDM",
        "outputId": "62646394-fb3b-41d8-ab4d-12541360f348"
      },
      "execution_count": null,
      "outputs": [
        {
          "output_type": "display_data",
          "data": {
            "text/plain": [
              "<Figure size 432x288 with 1 Axes>"
            ],
            "image/png": "[encoded data removed]"
          },
          "metadata": {
            "needs_background": "light"
          }
        }
      ]
    },
    {
      "cell_type": "code",
      "source": [
        "plt.plot(model_6.history.history[\"f1_score\"], c=\"r\", label=\"train_F_score\")\n",
        "plt.plot(model_6.history.history[\"val_f1_score\"], c=\"b\", label=\"val_F_score\")\n",
        "plt.legend(loc=\"upper left\")\n",
        "plt.show()"
      ],
      "metadata": {
        "colab": {
          "base_uri": "https://localhost:8080/",
          "height": 265
        },
        "id": "LHU5nmGsjW3Q",
        "outputId": "8220e2ca-32e9-4b85-a3b5-0b5acc2009da"
      },
      "execution_count": null,
      "outputs": [
        {
          "output_type": "display_data",
          "data": {
            "text/plain": [
              "<Figure size 432x288 with 1 Axes>"
            ],
            "image/png": "[encoded data removed]"
          },
          "metadata": {
            "needs_background": "light"
          }
        }
      ]
    },
    {
      "cell_type": "code",
      "source": [
        "#retrain on whole dataset\n",
        "retrain = tf.data.Dataset.from_tensor_slices((text_pad, tweets.target))\n",
        "\n",
        "retrain_batch = train.shuffle(len(retrain)).batch(64)"
      ],
      "metadata": {
        "execution": {
          "iopub.status.busy": "2022-05-16T13:32:19.373953Z",
          "iopub.execute_input": "2022-05-16T13:32:19.374699Z",
          "iopub.status.idle": "2022-05-16T13:32:19.430115Z",
          "shell.execute_reply.started": "2022-05-16T13:32:19.374643Z",
          "shell.execute_reply": "2022-05-16T13:32:19.429044Z"
        },
        "trusted": true,
        "id": "ZwfzKE-NXAYU"
      },
      "execution_count": 40,
      "outputs": []
    },
    {
      "cell_type": "code",
      "source": [
        "model_5_b.compile(optimizer='adam',\n",
        "              loss=tf.keras.losses.BinaryCrossentropy(),\n",
        "              metrics=[f1])\n",
        "model_5_b.fit(retrain_batch,epochs=4)"
      ],
      "metadata": {
        "execution": {
          "iopub.status.busy": "2022-05-16T13:38:50.877595Z",
          "iopub.execute_input": "2022-05-16T13:38:50.877934Z",
          "iopub.status.idle": "2022-05-16T13:39:11.463395Z",
          "shell.execute_reply.started": "2022-05-16T13:38:50.877901Z",
          "shell.execute_reply": "2022-05-16T13:39:11.462491Z"
        },
        "trusted": true,
        "colab": {
          "base_uri": "https://localhost:8080/"
        },
        "id": "yzM5x4cKXAYU",
        "outputId": "487f6950-cb5a-4ab8-8b36-d9dd2bc9e00f"
      },
      "execution_count": 44,
      "outputs": [
        {
          "output_type": "stream",
          "name": "stdout",
          "text": [
            "Epoch 1/4\n",
            "108/108 [==============================] - 4s 32ms/step - loss: 0.6707 - f1_score: 0.7382\n",
            "Epoch 2/4\n",
            "108/108 [==============================] - 3s 32ms/step - loss: 0.5957 - f1_score: 0.6357\n",
            "Epoch 3/4\n",
            "108/108 [==============================] - 3s 32ms/step - loss: 0.5258 - f1_score: 0.6951\n",
            "Epoch 4/4\n",
            "108/108 [==============================] - 3s 32ms/step - loss: 0.4565 - f1_score: 0.7576\n"
          ]
        },
        {
          "output_type": "execute_result",
          "data": {
            "text/plain": [
              "<keras.callbacks.History at 0x7fa1d9b4ec90>"
            ]
          },
          "metadata": {},
          "execution_count": 44
        }
      ]
    },
    {
      "cell_type": "code",
      "source": [
        "#fetch test data\n",
        "test = pd.read_csv(\"/content/test.csv\")\n",
        "test.head()\n"
      ],
      "metadata": {
        "execution": {
          "iopub.status.busy": "2022-05-16T13:36:41.424435Z",
          "iopub.execute_input": "2022-05-16T13:36:41.42479Z",
          "iopub.status.idle": "2022-05-16T13:36:41.451818Z",
          "shell.execute_reply.started": "2022-05-16T13:36:41.424755Z",
          "shell.execute_reply": "2022-05-16T13:36:41.45082Z"
        },
        "trusted": true,
        "colab": {
          "base_uri": "https://localhost:8080/",
          "height": 206
        },
        "id": "LlS-VeR3XAYU",
        "outputId": "dfaea477-a9d4-498b-858e-e44b582be1e0"
      },
      "execution_count": 37,
      "outputs": [
        {
          "output_type": "execute_result",
          "data": {
            "text/plain": [
              "   id keyword location  \\\n",
              "0  0   NaN     NaN       \n",
              "1  2   NaN     NaN       \n",
              "2  3   NaN     NaN       \n",
              "3  9   NaN     NaN       \n",
              "4  11  NaN     NaN       \n",
              "\n",
              "                                                                                               text  \n",
              "0  Just happened a terrible car crash                                                                \n",
              "1  Heard about #earthquake is different cities, stay safe everyone.                                  \n",
              "2  there is a forest fire at spot pond, geese are fleeing across the street, I cannot save them all  \n",
              "3  Apocalypse lighting. #Spokane #wildfires                                                          \n",
              "4  Typhoon Soudelor kills 28 in China and Taiwan                                                     "
            ],
            "text/html": [
              "\n",
              "  <div id=\"df-38fa5316-7623-4532-aa33-fa69ce30fe51\">\n",
              "    <div class=\"colab-df-container\">\n",
              "      <div>\n",
              "<style scoped>\n",
              "    .dataframe tbody tr th:only-of-type {\n",
              "        vertical-align: middle;\n",
              "    }\n",
              "\n",
              "    .dataframe tbody tr th {\n",
              "        vertical-align: top;\n",
              "    }\n",
              "\n",
              "    .dataframe thead th {\n",
              "        text-align: right;\n",
              "    }\n",
              "</style>\n",
              "<table border=\"1\" class=\"dataframe\">\n",
              "  <thead>\n",
              "    <tr style=\"text-align: right;\">\n",
              "      <th></th>\n",
              "      <th>id</th>\n",
              "      <th>keyword</th>\n",
              "      <th>location</th>\n",
              "      <th>text</th>\n",
              "    </tr>\n",
              "  </thead>\n",
              "  <tbody>\n",
              "    <tr>\n",
              "      <th>0</th>\n",
              "      <td>0</td>\n",
              "      <td>NaN</td>\n",
              "      <td>NaN</td>\n",
              "      <td>Just happened a terrible car crash</td>\n",
              "    </tr>\n",
              "    <tr>\n",
              "      <th>1</th>\n",
              "      <td>2</td>\n",
              "      <td>NaN</td>\n",
              "      <td>NaN</td>\n",
              "      <td>Heard about #earthquake is different cities, stay safe everyone.</td>\n",
              "    </tr>\n",
              "    <tr>\n",
              "      <th>2</th>\n",
              "      <td>3</td>\n",
              "      <td>NaN</td>\n",
              "      <td>NaN</td>\n",
              "      <td>there is a forest fire at spot pond, geese are fleeing across the street, I cannot save them all</td>\n",
              "    </tr>\n",
              "    <tr>\n",
              "      <th>3</th>\n",
              "      <td>9</td>\n",
              "      <td>NaN</td>\n",
              "      <td>NaN</td>\n",
              "      <td>Apocalypse lighting. #Spokane #wildfires</td>\n",
              "    </tr>\n",
              "    <tr>\n",
              "      <th>4</th>\n",
              "      <td>11</td>\n",
              "      <td>NaN</td>\n",
              "      <td>NaN</td>\n",
              "      <td>Typhoon Soudelor kills 28 in China and Taiwan</td>\n",
              "    </tr>\n",
              "  </tbody>\n",
              "</table>\n",
              "</div>\n",
              "      <button class=\"colab-df-convert\" onclick=\"convertToInteractive('df-38fa5316-7623-4532-aa33-fa69ce30fe51')\"\n",
              "              title=\"Convert this dataframe to an interactive table.\"\n",
              "              style=\"display:none;\">\n",
              "        \n",
              "  <svg xmlns=\"http://www.w3.org/2000/svg\" height=\"24px\"viewBox=\"0 0 24 24\"\n",
              "       width=\"24px\">\n",
              "    <path d=\"M0 0h24v24H0V0z\" fill=\"none\"/>\n",
              "    <path d=\"M18.56 5.44l.94 2.06.94-2.06 2.06-.94-2.06-.94-.94-2.06-.94 2.06-2.06.94zm-11 1L8.5 8.5l.94-2.06 2.06-.94-2.06-.94L8.5 2.5l-.94 2.06-2.06.94zm10 10l.94 2.06.94-2.06 2.06-.94-2.06-.94-.94-2.06-.94 2.06-2.06.94z\"/><path d=\"M17.41 7.96l-1.37-1.37c-.4-.4-.92-.59-1.43-.59-.52 0-1.04.2-1.43.59L10.3 9.45l-7.72 7.72c-.78.78-.78 2.05 0 2.83L4 21.41c.39.39.9.59 1.41.59.51 0 1.02-.2 1.41-.59l7.78-7.78 2.81-2.81c.8-.78.8-2.07 0-2.86zM5.41 20L4 18.59l7.72-7.72 1.47 1.35L5.41 20z\"/>\n",
              "  </svg>\n",
              "      </button>\n",
              "      \n",
              "  <style>\n",
              "    .colab-df-container {\n",
              "      display:flex;\n",
              "      flex-wrap:wrap;\n",
              "      gap: 12px;\n",
              "    }\n",
              "\n",
              "    .colab-df-convert {\n",
              "      background-color: #E8F0FE;\n",
              "      border: none;\n",
              "      border-radius: 50%;\n",
              "      cursor: pointer;\n",
              "      display: none;\n",
              "      fill: #1967D2;\n",
              "      height: 32px;\n",
              "      padding: 0 0 0 0;\n",
              "      width: 32px;\n",
              "    }\n",
              "\n",
              "    .colab-df-convert:hover {\n",
              "      background-color: #E2EBFA;\n",
              "      box-shadow: 0px 1px 2px rgba(60, 64, 67, 0.3), 0px 1px 3px 1px rgba(60, 64, 67, 0.15);\n",
              "      fill: #174EA6;\n",
              "    }\n",
              "\n",
              "    [theme=dark] .colab-df-convert {\n",
              "      background-color: #3B4455;\n",
              "      fill: #D2E3FC;\n",
              "    }\n",
              "\n",
              "    [theme=dark] .colab-df-convert:hover {\n",
              "      background-color: #434B5C;\n",
              "      box-shadow: 0px 1px 3px 1px rgba(0, 0, 0, 0.15);\n",
              "      filter: drop-shadow(0px 1px 2px rgba(0, 0, 0, 0.3));\n",
              "      fill: #FFFFFF;\n",
              "    }\n",
              "  </style>\n",
              "\n",
              "      <script>\n",
              "        const buttonEl =\n",
              "          document.querySelector('#df-38fa5316-7623-4532-aa33-fa69ce30fe51 button.colab-df-convert');\n",
              "        buttonEl.style.display =\n",
              "          google.colab.kernel.accessAllowed ? 'block' : 'none';\n",
              "\n",
              "        async function convertToInteractive(key) {\n",
              "          const element = document.querySelector('#df-38fa5316-7623-4532-aa33-fa69ce30fe51');\n",
              "          const dataTable =\n",
              "            await google.colab.kernel.invokeFunction('convertToInteractive',\n",
              "                                                     [key], {});\n",
              "          if (!dataTable) return;\n",
              "\n",
              "          const docLinkHtml = 'Like what you see? Visit the ' +\n",
              "            '<a target=\"_blank\" href=https://colab.research.google.com/notebooks/data_table.ipynb>data table notebook</a>'\n",
              "            + ' to learn more about interactive tables.';\n",
              "          element.innerHTML = '';\n",
              "          dataTable['output_type'] = 'display_data';\n",
              "          await google.colab.output.renderOutput(dataTable, element);\n",
              "          const docLink = document.createElement('div');\n",
              "          docLink.innerHTML = docLinkHtml;\n",
              "          element.appendChild(docLink);\n",
              "        }\n",
              "      </script>\n",
              "    </div>\n",
              "  </div>\n",
              "  "
            ]
          },
          "metadata": {},
          "execution_count": 37
        }
      ]
    },
    {
      "cell_type": "code",
      "source": [
        "# remove https\n",
        "# remove capital letters \n",
        "# remove special symbols \n",
        "# tokenize, lemmatize, remove stop words\n",
        "test['location'] = test['location'].fillna(\" \")\n",
        "test['text_location'] = test['text'] + \" \" + test['location']\n",
        "test['text_clean'] = test['text_location'].str.replace(r\"https?:\\/\\/(www\\.)?[-a-zA-Z0-9@:%._\\+~#=]{1,256}\\.[a-zA-Z0-9()]{1,6}\\b([-a-zA-Z0-9()@:%_\\+.~#?&//=]*)\", \" \")\n",
        "test['text_clean'] = test['text_clean'].str.replace(r\"@[-a-zA-Z0-9@:%._\\+~#=]{1,256}\\s\", \" \")\n",
        "test['text_clean'] = test['text_clean'].str.replace(r\"\\&(.*?)\\;\", \" \")\n",
        "test['text_clean'] = test['text_clean'].str.replace(r\"\\n\", \" \")\n",
        "test['text_clean'] = test['text_clean'].str.replace(r\"åÊ\", \" \")\n",
        "test['text_clean'] = test['text_clean'].str.replace(r\"ÛÓ\", \" \")\n",
        "test['text_clean'] = test['text_clean'].str.replace(r\"ÛÒ\", \" \")\n",
        "test['text_clean'] = test['text_clean'].str.replace(r\"Û\", \" \")\n",
        "test['text_clean'] = test['text_clean'].str.replace(r\"[!@#$%^&*(),.?\\\\/\\\":{}|<>ã¢;ª-]\", \" \")\n",
        "#test['text_clean'] = test['text_clean'].str.replace(r\"[0-9]+\", \" \")\n",
        "test['text_clean'] = test['text_clean'].str.replace(r\"\\s[a-z]\\s\", \" \")\n",
        "test['text_clean'] = test['text_clean'].str.replace(r\"\\s[a-z]\\s\", \" \")\n",
        "\n",
        "test['text_clean'] = test['text_clean'].apply(lambda x:''.join(ch for ch in x if ch.isalnum() or ch==\" \" or ch==\"'\"))\n",
        "test['text_clean'] = test['text_clean'].apply(lambda x: x.replace(\" +\",\" \").lower().strip())\n",
        "test['text_clean'] = test['text_clean'].apply(lambda x: \" \".join([token.lemma_ for token in nlp(x) if (token.lemma_ not in STOP_WORDS) & (token.text not in STOP_WORDS)]))\n",
        "test['text_clean'] = test['text_clean'].str.replace(r\"[']\", \" \")\n",
        "test['text_clean'] = test['text_clean'].str.replace(r\"[']\", \" \")\n",
        "\n",
        "test[\"text_encoded\"] = tokenizer.texts_to_sequences(test.text_clean)\n",
        "test[\"len_text\"] = test[\"text_encoded\"].apply(lambda x: len(x))\n",
        "\n",
        "test_pad = tf.keras.preprocessing.sequence.pad_sequences(test.text_encoded, padding=\"post\")\n",
        "\n"
      ],
      "metadata": {
        "execution": {
          "iopub.status.busy": "2022-05-16T13:36:41.453613Z",
          "iopub.execute_input": "2022-05-16T13:36:41.453919Z",
          "iopub.status.idle": "2022-05-16T13:37:15.116889Z",
          "shell.execute_reply.started": "2022-05-16T13:36:41.453887Z",
          "shell.execute_reply": "2022-05-16T13:37:15.115522Z"
        },
        "trusted": true,
        "colab": {
          "base_uri": "https://localhost:8080/"
        },
        "id": "7BfCG2pAXAYV",
        "outputId": "93728101-bc17-41fe-cb0a-62993cbeb369"
      },
      "execution_count": 38,
      "outputs": [
        {
          "output_type": "stream",
          "name": "stderr",
          "text": [
            "/usr/local/lib/python3.7/dist-packages/ipykernel_launcher.py:7: FutureWarning: The default value of regex will change from True to False in a future version.\n",
            "  import sys\n",
            "/usr/local/lib/python3.7/dist-packages/ipykernel_launcher.py:8: FutureWarning: The default value of regex will change from True to False in a future version.\n",
            "  \n",
            "/usr/local/lib/python3.7/dist-packages/ipykernel_launcher.py:9: FutureWarning: The default value of regex will change from True to False in a future version.\n",
            "  if __name__ == '__main__':\n",
            "/usr/local/lib/python3.7/dist-packages/ipykernel_launcher.py:10: FutureWarning: The default value of regex will change from True to False in a future version.\n",
            "  # Remove the CWD from sys.path while we load stuff.\n",
            "/usr/local/lib/python3.7/dist-packages/ipykernel_launcher.py:15: FutureWarning: The default value of regex will change from True to False in a future version.\n",
            "  from ipykernel import kernelapp as app\n",
            "/usr/local/lib/python3.7/dist-packages/ipykernel_launcher.py:17: FutureWarning: The default value of regex will change from True to False in a future version.\n",
            "/usr/local/lib/python3.7/dist-packages/ipykernel_launcher.py:18: FutureWarning: The default value of regex will change from True to False in a future version.\n",
            "/usr/local/lib/python3.7/dist-packages/ipykernel_launcher.py:23: FutureWarning: The default value of regex will change from True to False in a future version.\n",
            "/usr/local/lib/python3.7/dist-packages/ipykernel_launcher.py:24: FutureWarning: The default value of regex will change from True to False in a future version.\n"
          ]
        }
      ]
    },
    {
      "cell_type": "code",
      "source": [
        "pred = model_5_b.predict(test_pad)\n",
        "test_prediction = pd.DataFrame(test['id'] )\n",
        "test_prediction['pred'] = pred\n",
        "test_prediction['target'] = test_prediction['pred'].apply(lambda x: 0 if x<0.5 else 1)\n",
        "test_prediction = test_prediction[['id', 'target']]\n",
        "test_prediction.to_csv('/content/predictions.csv', index=False)"
      ],
      "metadata": {
        "execution": {
          "iopub.status.busy": "2022-05-16T13:37:15.434167Z",
          "iopub.execute_input": "2022-05-16T13:37:15.434498Z",
          "iopub.status.idle": "2022-05-16T13:37:15.447694Z",
          "shell.execute_reply.started": "2022-05-16T13:37:15.434461Z",
          "shell.execute_reply": "2022-05-16T13:37:15.446631Z"
        },
        "trusted": true,
        "id": "xs4V1xL4XAYV"
      },
      "execution_count": 45,
      "outputs": []
    },
    {
      "cell_type": "markdown",
      "source": [
        "**F1-score on Kaggle: 0.81152**\n",
        "\n",
        "**Leaderboard Position: 237**"
      ],
      "metadata": {
        "id": "MjnNuJPVFsTB"
      }
    }
  ]
}